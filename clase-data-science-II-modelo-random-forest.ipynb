{
 "cells": [
  {
   "cell_type": "markdown",
   "metadata": {},
   "source": [
    "# Importamos Librerias de Python"
   ]
  },
  {
   "cell_type": "code",
   "execution_count": 3,
   "metadata": {},
   "outputs": [],
   "source": [
    "import joblib\n",
    "import pandas as pd\n",
    "from sklearn.ensemble import RandomForestClassifier, RandomForestRegressor, RandomTreesEmbedding\n",
    "from sklearn.model_selection import GridSearchCV\n",
    "from sklearn.preprocessing import StandardScaler\n",
    "from sklearn.model_selection import train_test_split \n",
    "import warnings\n",
    "warnings.filterwarnings('ignore', category=FutureWarning)\n",
    "warnings.filterwarnings('ignore', category=DeprecationWarning)\n",
    "import matplotlib.pyplot as plt"
   ]
  },
  {
   "cell_type": "markdown",
   "metadata": {},
   "source": [
    "# Preparando data para el analisis"
   ]
  },
  {
   "cell_type": "markdown",
   "metadata": {},
   "source": [
    "#### Paso 1: Importamos la data"
   ]
  },
  {
   "cell_type": "code",
   "execution_count": 4,
   "metadata": {},
   "outputs": [
    {
     "data": {
      "text/html": [
       "<div>\n",
       "<style scoped>\n",
       "    .dataframe tbody tr th:only-of-type {\n",
       "        vertical-align: middle;\n",
       "    }\n",
       "\n",
       "    .dataframe tbody tr th {\n",
       "        vertical-align: top;\n",
       "    }\n",
       "\n",
       "    .dataframe thead th {\n",
       "        text-align: right;\n",
       "    }\n",
       "</style>\n",
       "<table border=\"1\" class=\"dataframe\">\n",
       "  <thead>\n",
       "    <tr style=\"text-align: right;\">\n",
       "      <th></th>\n",
       "      <th>s1</th>\n",
       "      <th>s2</th>\n",
       "      <th>s3</th>\n",
       "      <th>s4</th>\n",
       "      <th>s5</th>\n",
       "      <th>s6</th>\n",
       "      <th>s7</th>\n",
       "      <th>s8</th>\n",
       "      <th>s9</th>\n",
       "      <th>s10</th>\n",
       "      <th>...</th>\n",
       "      <th>s179</th>\n",
       "      <th>s180</th>\n",
       "      <th>s181</th>\n",
       "      <th>s182</th>\n",
       "      <th>s183</th>\n",
       "      <th>s184</th>\n",
       "      <th>s185</th>\n",
       "      <th>s186</th>\n",
       "      <th>sequence</th>\n",
       "      <th>F</th>\n",
       "    </tr>\n",
       "  </thead>\n",
       "  <tbody>\n",
       "    <tr>\n",
       "      <th>0</th>\n",
       "      <td>-2.92</td>\n",
       "      <td>-7.15</td>\n",
       "      <td>-8.32</td>\n",
       "      <td>-7.48</td>\n",
       "      <td>-4.33</td>\n",
       "      <td>-6.17</td>\n",
       "      <td>-7.55</td>\n",
       "      <td>-5.78</td>\n",
       "      <td>-3.48</td>\n",
       "      <td>-7.33</td>\n",
       "      <td>...</td>\n",
       "      <td>6.31</td>\n",
       "      <td>-1.48</td>\n",
       "      <td>-1.67</td>\n",
       "      <td>-2.94</td>\n",
       "      <td>-0.95</td>\n",
       "      <td>4.08</td>\n",
       "      <td>-4.06</td>\n",
       "      <td>-1.14</td>\n",
       "      <td>CCCGATGGTCCACATGCTCCTTAGAAGAGCTAGCCGTCGATAGACC...</td>\n",
       "      <td>2.4044</td>\n",
       "    </tr>\n",
       "    <tr>\n",
       "      <th>1</th>\n",
       "      <td>-10.59</td>\n",
       "      <td>-3.52</td>\n",
       "      <td>-6.09</td>\n",
       "      <td>-2.47</td>\n",
       "      <td>-3.38</td>\n",
       "      <td>-7.68</td>\n",
       "      <td>-10.83</td>\n",
       "      <td>-10.44</td>\n",
       "      <td>-11.32</td>\n",
       "      <td>-9.98</td>\n",
       "      <td>...</td>\n",
       "      <td>-1.27</td>\n",
       "      <td>6.11</td>\n",
       "      <td>-3.06</td>\n",
       "      <td>-2.45</td>\n",
       "      <td>4.48</td>\n",
       "      <td>-1.55</td>\n",
       "      <td>-1.76</td>\n",
       "      <td>-3.59</td>\n",
       "      <td>GTTCTGGGTTAATACTGATCGGAAGAGCAAGTGGGCTCAGTCAACA...</td>\n",
       "      <td>2.2380</td>\n",
       "    </tr>\n",
       "    <tr>\n",
       "      <th>2</th>\n",
       "      <td>-8.93</td>\n",
       "      <td>-8.06</td>\n",
       "      <td>-7.47</td>\n",
       "      <td>-4.91</td>\n",
       "      <td>-2.42</td>\n",
       "      <td>-2.37</td>\n",
       "      <td>-9.01</td>\n",
       "      <td>-9.43</td>\n",
       "      <td>-3.12</td>\n",
       "      <td>-2.52</td>\n",
       "      <td>...</td>\n",
       "      <td>-4.19</td>\n",
       "      <td>5.88</td>\n",
       "      <td>-1.43</td>\n",
       "      <td>-0.64</td>\n",
       "      <td>-2.26</td>\n",
       "      <td>-4.18</td>\n",
       "      <td>-3.00</td>\n",
       "      <td>5.89</td>\n",
       "      <td>TGTATCCCATGCCCTCTCAGAAGAGCGAATGCTTAACTACATAGAG...</td>\n",
       "      <td>2.0745</td>\n",
       "    </tr>\n",
       "  </tbody>\n",
       "</table>\n",
       "<p>3 rows × 188 columns</p>\n",
       "</div>"
      ],
      "text/plain": [
       "      s1    s2    s3    s4    s5    s6     s7     s8     s9   s10  ...  s179  \\\n",
       "0  -2.92 -7.15 -8.32 -7.48 -4.33 -6.17  -7.55  -5.78  -3.48 -7.33  ...  6.31   \n",
       "1 -10.59 -3.52 -6.09 -2.47 -3.38 -7.68 -10.83 -10.44 -11.32 -9.98  ... -1.27   \n",
       "2  -8.93 -8.06 -7.47 -4.91 -2.42 -2.37  -9.01  -9.43  -3.12 -2.52  ... -4.19   \n",
       "\n",
       "   s180  s181  s182  s183  s184  s185  s186  \\\n",
       "0 -1.48 -1.67 -2.94 -0.95  4.08 -4.06 -1.14   \n",
       "1  6.11 -3.06 -2.45  4.48 -1.55 -1.76 -3.59   \n",
       "2  5.88 -1.43 -0.64 -2.26 -4.18 -3.00  5.89   \n",
       "\n",
       "                                            sequence       F  \n",
       "0  CCCGATGGTCCACATGCTCCTTAGAAGAGCTAGCCGTCGATAGACC...  2.4044  \n",
       "1  GTTCTGGGTTAATACTGATCGGAAGAGCAAGTGGGCTCAGTCAACA...  2.2380  \n",
       "2  TGTATCCCATGCCCTCTCAGAAGAGCGAATGCTTAACTACATAGAG...  2.0745  \n",
       "\n",
       "[3 rows x 188 columns]"
      ]
     },
     "execution_count": 4,
     "metadata": {},
     "output_type": "execute_result"
    }
   ],
   "source": [
    "mydata = pd.read_csv(\"sorted_dna_seq_F26_all_data.csv\") # comando para subir la data\n",
    "mydata.head(3) # comando para visualizar la data"
   ]
  },
  {
   "cell_type": "markdown",
   "metadata": {},
   "source": [
    "#### Paso 2: Separamos variables dependientes (y) de independientes (x)"
   ]
  },
  {
   "cell_type": "code",
   "execution_count": 6,
   "metadata": {},
   "outputs": [
    {
     "data": {
      "text/html": [
       "<div>\n",
       "<style scoped>\n",
       "    .dataframe tbody tr th:only-of-type {\n",
       "        vertical-align: middle;\n",
       "    }\n",
       "\n",
       "    .dataframe tbody tr th {\n",
       "        vertical-align: top;\n",
       "    }\n",
       "\n",
       "    .dataframe thead th {\n",
       "        text-align: right;\n",
       "    }\n",
       "</style>\n",
       "<table border=\"1\" class=\"dataframe\">\n",
       "  <thead>\n",
       "    <tr style=\"text-align: right;\">\n",
       "      <th></th>\n",
       "      <th>s1</th>\n",
       "      <th>s2</th>\n",
       "      <th>s3</th>\n",
       "      <th>s4</th>\n",
       "      <th>s5</th>\n",
       "      <th>s6</th>\n",
       "      <th>s7</th>\n",
       "      <th>s8</th>\n",
       "      <th>s9</th>\n",
       "      <th>s10</th>\n",
       "      <th>...</th>\n",
       "      <th>s177</th>\n",
       "      <th>s178</th>\n",
       "      <th>s179</th>\n",
       "      <th>s180</th>\n",
       "      <th>s181</th>\n",
       "      <th>s182</th>\n",
       "      <th>s183</th>\n",
       "      <th>s184</th>\n",
       "      <th>s185</th>\n",
       "      <th>s186</th>\n",
       "    </tr>\n",
       "  </thead>\n",
       "  <tbody>\n",
       "    <tr>\n",
       "      <th>0</th>\n",
       "      <td>-2.92</td>\n",
       "      <td>-7.15</td>\n",
       "      <td>-8.32</td>\n",
       "      <td>-7.48</td>\n",
       "      <td>-4.33</td>\n",
       "      <td>-6.17</td>\n",
       "      <td>-7.55</td>\n",
       "      <td>-5.78</td>\n",
       "      <td>-3.48</td>\n",
       "      <td>-7.33</td>\n",
       "      <td>...</td>\n",
       "      <td>-0.51</td>\n",
       "      <td>-3.77</td>\n",
       "      <td>6.31</td>\n",
       "      <td>-1.48</td>\n",
       "      <td>-1.67</td>\n",
       "      <td>-2.94</td>\n",
       "      <td>-0.95</td>\n",
       "      <td>4.08</td>\n",
       "      <td>-4.06</td>\n",
       "      <td>-1.14</td>\n",
       "    </tr>\n",
       "    <tr>\n",
       "      <th>1</th>\n",
       "      <td>-10.59</td>\n",
       "      <td>-3.52</td>\n",
       "      <td>-6.09</td>\n",
       "      <td>-2.47</td>\n",
       "      <td>-3.38</td>\n",
       "      <td>-7.68</td>\n",
       "      <td>-10.83</td>\n",
       "      <td>-10.44</td>\n",
       "      <td>-11.32</td>\n",
       "      <td>-9.98</td>\n",
       "      <td>...</td>\n",
       "      <td>-1.66</td>\n",
       "      <td>-2.88</td>\n",
       "      <td>-1.27</td>\n",
       "      <td>6.11</td>\n",
       "      <td>-3.06</td>\n",
       "      <td>-2.45</td>\n",
       "      <td>4.48</td>\n",
       "      <td>-1.55</td>\n",
       "      <td>-1.76</td>\n",
       "      <td>-3.59</td>\n",
       "    </tr>\n",
       "    <tr>\n",
       "      <th>2</th>\n",
       "      <td>-8.93</td>\n",
       "      <td>-8.06</td>\n",
       "      <td>-7.47</td>\n",
       "      <td>-4.91</td>\n",
       "      <td>-2.42</td>\n",
       "      <td>-2.37</td>\n",
       "      <td>-9.01</td>\n",
       "      <td>-9.43</td>\n",
       "      <td>-3.12</td>\n",
       "      <td>-2.52</td>\n",
       "      <td>...</td>\n",
       "      <td>-2.69</td>\n",
       "      <td>5.21</td>\n",
       "      <td>-4.19</td>\n",
       "      <td>5.88</td>\n",
       "      <td>-1.43</td>\n",
       "      <td>-0.64</td>\n",
       "      <td>-2.26</td>\n",
       "      <td>-4.18</td>\n",
       "      <td>-3.00</td>\n",
       "      <td>5.89</td>\n",
       "    </tr>\n",
       "  </tbody>\n",
       "</table>\n",
       "<p>3 rows × 186 columns</p>\n",
       "</div>"
      ],
      "text/plain": [
       "      s1    s2    s3    s4    s5    s6     s7     s8     s9   s10  ...  s177  \\\n",
       "0  -2.92 -7.15 -8.32 -7.48 -4.33 -6.17  -7.55  -5.78  -3.48 -7.33  ... -0.51   \n",
       "1 -10.59 -3.52 -6.09 -2.47 -3.38 -7.68 -10.83 -10.44 -11.32 -9.98  ... -1.66   \n",
       "2  -8.93 -8.06 -7.47 -4.91 -2.42 -2.37  -9.01  -9.43  -3.12 -2.52  ... -2.69   \n",
       "\n",
       "   s178  s179  s180  s181  s182  s183  s184  s185  s186  \n",
       "0 -3.77  6.31 -1.48 -1.67 -2.94 -0.95  4.08 -4.06 -1.14  \n",
       "1 -2.88 -1.27  6.11 -3.06 -2.45  4.48 -1.55 -1.76 -3.59  \n",
       "2  5.21 -4.19  5.88 -1.43 -0.64 -2.26 -4.18 -3.00  5.89  \n",
       "\n",
       "[3 rows x 186 columns]"
      ]
     },
     "execution_count": 6,
     "metadata": {},
     "output_type": "execute_result"
    }
   ],
   "source": [
    "var_dep = mydata[\"F\"] # cogemos la columna de nombre insuranceclaim\n",
    "var_ind = mydata.drop([\"sequence\",\"F\"],axis=1) # cogemos TODAS las columnas menos la que dice insuranceclaim (drop)\n",
    "var_ind.head(3)"
   ]
  },
  {
   "cell_type": "markdown",
   "metadata": {},
   "source": [
    "#### Paso 3: Normalizamos la data  (warning)"
   ]
  },
  {
   "cell_type": "code",
   "execution_count": 8,
   "metadata": {},
   "outputs": [
    {
     "name": "stdout",
     "output_type": "stream",
     "text": [
      "ready\n"
     ]
    }
   ],
   "source": [
    "var_ind_norm = StandardScaler().fit_transform(var_ind)\n",
    "print(\"ready\")"
   ]
  },
  {
   "cell_type": "markdown",
   "metadata": {},
   "source": [
    "#### Paso 4: Dividimos la data en data de entrenamiento y data de testeo"
   ]
  },
  {
   "cell_type": "code",
   "execution_count": 9,
   "metadata": {},
   "outputs": [
    {
     "name": "stdout",
     "output_type": "stream",
     "text": [
      "ready\n"
     ]
    }
   ],
   "source": [
    "# Cuando se hace machine learning, siempre se divide la data en data de entrenamiento y data de testeo\n",
    "x_train, x_test, y_train, y_test = train_test_split(var_ind_norm, var_dep, test_size=0.25, random_state=0)\n",
    "print(\"ready\")"
   ]
  },
  {
   "cell_type": "markdown",
   "metadata": {},
   "source": [
    "# Random Forest en 4 pasos"
   ]
  },
  {
   "cell_type": "markdown",
   "metadata": {},
   "source": [
    "#### Paso 1: Importamos el modelo que queremos usar."
   ]
  },
  {
   "cell_type": "code",
   "execution_count": 10,
   "metadata": {},
   "outputs": [],
   "source": [
    "from sklearn.ensemble import RandomForestRegressor"
   ]
  },
  {
   "cell_type": "markdown",
   "metadata": {},
   "source": [
    "#### Paso 2: Creamos una variable de clase Regresion Logistica"
   ]
  },
  {
   "cell_type": "code",
   "execution_count": 11,
   "metadata": {},
   "outputs": [],
   "source": [
    "clf=RandomForestRegressor(max_depth=4,n_estimators=100)"
   ]
  },
  {
   "cell_type": "markdown",
   "metadata": {},
   "source": [
    "#### Paso 3: Entrenamos el modelo basado en la data"
   ]
  },
  {
   "cell_type": "code",
   "execution_count": 12,
   "metadata": {},
   "outputs": [
    {
     "name": "stdout",
     "output_type": "stream",
     "text": [
      "ready\n"
     ]
    }
   ],
   "source": [
    "clf.fit(x_train, y_train) # entrena el modelo (data de entrenamie)\n",
    "print(\"ready\")"
   ]
  },
  {
   "cell_type": "markdown",
   "metadata": {},
   "source": [
    "#### Paso 4: Predecimos usando el modelo entrenado"
   ]
  },
  {
   "cell_type": "code",
   "execution_count": 14,
   "metadata": {},
   "outputs": [
    {
     "name": "stdout",
     "output_type": "stream",
     "text": [
      "ready\n"
     ]
    }
   ],
   "source": [
    "predictions = clf.predict(x_test)\n",
    "print(\"ready\") # revisa si termino el codigo (rstc)"
   ]
  },
  {
   "cell_type": "markdown",
   "metadata": {},
   "source": [
    "## Importancia de las variables (MUY IMPORTANTE)"
   ]
  },
  {
   "cell_type": "code",
   "execution_count": 15,
   "metadata": {},
   "outputs": [
    {
     "data": {
      "text/plain": [
       "array([2.63601720e-03, 1.27910283e-03, 4.36499727e-02, 3.80907582e-02,\n",
       "       4.69670259e-03, 9.93375318e-04, 6.54092488e-04, 4.40228375e-02,\n",
       "       3.37575286e-02, 7.99398933e-04, 3.58687034e-03, 4.82924266e-03,\n",
       "       1.10672232e-02, 3.61440864e-02, 9.50715792e-03, 1.35185047e-04,\n",
       "       1.29120486e-03, 1.04457881e-02, 2.09141873e-01, 3.33633565e-02,\n",
       "       8.77073741e-04, 8.88755392e-04, 5.67582687e-03, 7.94202682e-02,\n",
       "       1.11213294e-02, 7.07656173e-04, 9.29395104e-03, 7.02453857e-03,\n",
       "       5.70068775e-02, 6.50633056e-02, 3.70115098e-03, 6.97639738e-04,\n",
       "       1.56932547e-03, 5.13093203e-03, 6.56022678e-02, 6.46157823e-03,\n",
       "       4.28627043e-04, 5.33999315e-04, 4.84343094e-03, 6.72271738e-03,\n",
       "       3.17330456e-03, 8.18066391e-04, 8.87540467e-04, 5.45358867e-03,\n",
       "       7.51887340e-03, 2.34810853e-03, 0.00000000e+00, 2.36838747e-04,\n",
       "       1.09834509e-03, 1.67619457e-03, 1.68155931e-03, 3.37551440e-05,\n",
       "       4.84841734e-04, 0.00000000e+00, 7.15241614e-04, 5.10204312e-04,\n",
       "       0.00000000e+00, 6.69675043e-04, 1.27412704e-03, 1.31039538e-03,\n",
       "       5.86036152e-04, 4.17362118e-04, 5.82823733e-04, 7.05723206e-04,\n",
       "       1.58609402e-03, 1.05491611e-03, 5.88073969e-04, 7.31586084e-04,\n",
       "       1.87782793e-03, 2.15458709e-03, 6.35870495e-04, 1.26037655e-03,\n",
       "       1.15822215e-03, 1.76415207e-04, 2.99870837e-03, 7.39898784e-04,\n",
       "       3.74446704e-04, 1.56396675e-03, 4.47480522e-04, 2.12771785e-04,\n",
       "       7.87175886e-04, 2.38980409e-03, 2.00062339e-04, 1.39573411e-04,\n",
       "       1.38054851e-03, 3.78156257e-04, 9.83973433e-04, 0.00000000e+00,\n",
       "       7.96598452e-04, 3.85676380e-04, 4.16351388e-04, 2.55977519e-04,\n",
       "       5.21822775e-04, 3.06588778e-04, 2.37222079e-04, 2.97912014e-04,\n",
       "       7.81502540e-04, 3.67921920e-04, 6.99256585e-04, 4.64736426e-04,\n",
       "       3.44388119e-03, 2.52067467e-03, 1.07587045e-03, 1.04990589e-03,\n",
       "       6.43626071e-04, 4.10945209e-04, 2.43050957e-03, 2.92797396e-03,\n",
       "       5.59221023e-04, 8.15436844e-05, 1.87209674e-02, 6.49295382e-03,\n",
       "       6.29226837e-04, 1.18856239e-03, 1.58897102e-03, 8.56600493e-04,\n",
       "       1.01743264e-04, 2.02880731e-03, 2.78719636e-04, 1.49392057e-03,\n",
       "       1.29867202e-03, 5.16585448e-03, 5.20323166e-04, 2.45411037e-03,\n",
       "       1.51027808e-03, 8.31325316e-04, 1.23729838e-03, 8.30055834e-04,\n",
       "       3.91908771e-03, 0.00000000e+00, 0.00000000e+00, 0.00000000e+00,\n",
       "       1.66086674e-03, 0.00000000e+00, 3.39014883e-04, 1.26649202e-03,\n",
       "       4.76215969e-04, 0.00000000e+00, 6.64388711e-04, 0.00000000e+00,\n",
       "       6.99798946e-04, 2.10011534e-03, 2.37063903e-03, 6.77423332e-04,\n",
       "       1.06831758e-03, 5.99971239e-04, 1.87359439e-04, 2.54083018e-03,\n",
       "       2.50666443e-04, 1.78862905e-04, 3.85959919e-04, 1.39117766e-03,\n",
       "       4.43136947e-04, 1.66148465e-03, 9.11752226e-04, 1.46895033e-03,\n",
       "       9.57176315e-04, 1.37957897e-03, 3.89595680e-04, 1.32900952e-03,\n",
       "       2.07406059e-04, 9.39888689e-04, 2.33132275e-03, 1.14250812e-03,\n",
       "       3.63386471e-03, 1.34056762e-03, 2.01953467e-04, 3.06244442e-04,\n",
       "       3.41449657e-04, 7.13590555e-04, 1.06182258e-03, 6.02337979e-04,\n",
       "       6.10657147e-04, 2.52364194e-03, 5.34641984e-04, 8.29635583e-04,\n",
       "       5.96216531e-04, 1.26570360e-03, 0.00000000e+00, 8.21925746e-04,\n",
       "       5.32634836e-04, 1.38856607e-03, 4.43700930e-04, 9.35701382e-04,\n",
       "       6.05868029e-04, 0.00000000e+00])"
      ]
     },
     "execution_count": 15,
     "metadata": {},
     "output_type": "execute_result"
    }
   ],
   "source": [
    "clf.feature_importances_"
   ]
  },
  {
   "cell_type": "code",
   "execution_count": 16,
   "metadata": {},
   "outputs": [
    {
     "data": {
      "text/plain": [
       "[<matplotlib.lines.Line2D at 0x1b9d93bcc08>]"
      ]
     },
     "execution_count": 16,
     "metadata": {},
     "output_type": "execute_result"
    },
    {
     "data": {
      "image/png": "[encoded data removed]",
      "text/plain": [
       "<Figure size 432x288 with 1 Axes>"
      ]
     },
     "metadata": {
      "needs_background": "light"
     },
     "output_type": "display_data"
    }
   ],
   "source": [
    "plt.plot(predictions,y_test,'o')"
   ]
  },
  {
   "cell_type": "code",
   "execution_count": null,
   "metadata": {},
   "outputs": [],
   "source": []
  }
 ],
 "metadata": {
  "kernelspec": {
   "display_name": "Python 3",
   "language": "python",
   "name": "python3"
  },
  "language_info": {
   "codemirror_mode": {
    "name": "ipython",
    "version": 3
   },
   "file_extension": ".py",
   "mimetype": "text/x-python",
   "name": "python",
   "nbconvert_exporter": "python",
   "pygments_lexer": "ipython3",
   "version": "3.7.6"
  }
 },
 "nbformat": 4,
 "nbformat_minor": 2
}
