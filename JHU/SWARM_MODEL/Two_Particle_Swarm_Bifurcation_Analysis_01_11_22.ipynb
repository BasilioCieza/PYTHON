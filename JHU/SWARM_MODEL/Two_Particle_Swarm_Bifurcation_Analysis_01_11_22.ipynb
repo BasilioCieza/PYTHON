{
 "cells": [
  {
   "cell_type": "markdown",
   "metadata": {},
   "source": [
    "# Author: Basilio Cieza Huaman\n",
    "# email: bciezah@gmail.com"
   ]
  },
  {
   "cell_type": "markdown",
   "metadata": {},
   "source": [
    "# 1. Importing libraries"
   ]
  },
  {
   "cell_type": "code",
   "execution_count": 1,
   "metadata": {},
   "outputs": [],
   "source": [
    "from __future__ import division\n",
    "from scipy.cluster.hierarchy import ward, fcluster\n",
    "from scipy.spatial.distance import pdist\n",
    "from scipy.cluster.hierarchy import dendrogram, linkage  \n",
    "from matplotlib import pyplot as plt\n",
    "import numpy as np\n",
    "from scipy.optimize import curve_fit\n",
    "import math\n",
    "import numpy as np\n",
    "import os\n",
    "import re\n",
    "import scipy.integrate\n",
    "from scipy.constants import N_A\n",
    "from scipy.integrate import odeint\n",
    "import h5py\n",
    "import matplotlib\n",
    "import math\n",
    "import numpy as np\n",
    "import os\n",
    "import re\n",
    "from pylab import *\n",
    "np.seterr(divide='ignore',invalid='ignore')\n",
    "pass"
   ]
  },
  {
   "cell_type": "markdown",
   "metadata": {},
   "source": [
    "# 2. Defining functions"
   ]
  },
  {
   "cell_type": "code",
   "execution_count": 2,
   "metadata": {},
   "outputs": [],
   "source": [
    "# plot styles\n",
    "def screen_style(fontSize=20):\n",
    "    global plotStyles,stepStyles,plotColors,plotSymbols\n",
    "    matplotlib.rcParams.update({\"axes.formatter.limits\": (-4,4), \"svg.fonttype\" : \"none\", 'pdf.fonttype':42,'font.family':'sans-serif','font.sans-serif':'Helvetica','font.size': fontSize, \"axes.titlesize\": fontSize, \"xtick.labelsize\": fontSize, \"ytick.labelsize\": fontSize,'text.usetex':False,'text.latex.preamble':[r'\\usepackage{sansmath}',r'\\sansmath']})\n",
    "    plotStyles={\"markersize\":12,\"markeredgewidth\":3.0,\"linewidth\":3.0}\n",
    "    stepStyles={\"markersize\":20,\"markeredgewidth\":3.0,\"linewidth\":3.0,\"where\":\"post\"}\n",
    "    plotColors=plt.rcParams['axes.prop_cycle'].by_key()['color']\n",
    "    plotSymbols=['x','o','^']\n",
    "\n",
    "# solve differential equations    \n",
    "def solve_dif_eq(y,t,k1,k2,k3,k4):\n",
    "    dx1  = -2*k1*((1-2*y[1])**2) + 2*k2*y[1] - 2*k3*((1-2*y[1])**2)*(y[1]**2) + 2*k4*(y[1]**3)                     # y[0]\n",
    "    dx2  = +k1*((1-2*y[1])**2) - k2*y[1] + k3*((1-2*y[1])**2)*(y[1]**2) - k4*(y[1]**3)                     # y[1]          \n",
    "    return[dx1,dx2]\n",
    "\n",
    "# Function to calculate entropy production\n",
    "def EntropyProduction(x1,k1,k2,k3,k4):\n",
    "    x2=(1-x1)/2\n",
    "    Jneg1=k2*x2;\n",
    "    Jpos1=k1*(x1**2)\n",
    "    Jneg2=k4*(x2**3)\n",
    "    Jpos2=k3*(x2**2)*(x1**2)\n",
    "    r1  =(Jneg1-Jpos1)*log(Jneg1/Jpos1)\n",
    "    r2  =(Jpos2-Jneg2)*log(Jpos2/Jneg2) \n",
    "    Et=r1+r2       \n",
    "    return[Et]\n",
    "\n",
    "# Function to calculate chemical potential\n",
    "def ChemicalPotential(k1,k2,k3,k4):   \n",
    "    return[log((k2* k3)/(k1*k4))]"
   ]
  },
  {
   "cell_type": "code",
   "execution_count": 3,
   "metadata": {},
   "outputs": [],
   "source": [
    "screen_style() # calling plot styles functions"
   ]
  },
  {
   "cell_type": "markdown",
   "metadata": {},
   "source": [
    "# 3. Bifurcation Analysis"
   ]
  },
  {
   "cell_type": "markdown",
   "metadata": {},
   "source": [
    "####  3.1 First interval"
   ]
  },
  {
   "cell_type": "code",
   "execution_count": 4,
   "metadata": {},
   "outputs": [],
   "source": [
    "fsss0=[] # first stable steady state\n",
    "k3_axis0=[]\n",
    "k1=k4=0.1 ;k2=100\n",
    "x1=linspace(0,1.5,100000)\n",
    "y0=x1*0\n",
    "k3sample2=logspace(2,4,1000)[0:570]\n",
    "for k3 in k3sample2:  \n",
    "    dx1  = -k1*((x1)**2) + k2*(0.5-0.5*x1) - k3*((x1)**2)*((0.5-0.5*x1)**2) + k4*((0.5-0.5*x1)**3)\n",
    "    index=np.where(np.logical_and(dx1>=-0.1, dx1<=+0.1))\n",
    "    index3=np.where(np.logical_and(x1[index]>=0.99, x1[index]<1))\n",
    "    fsss0.append(x1[index][index3][0])\n",
    "    k3_axis0.append(k3)"
   ]
  },
  {
   "cell_type": "markdown",
   "metadata": {},
   "source": [
    "#### 3.2 Second interval"
   ]
  },
  {
   "cell_type": "code",
   "execution_count": 5,
   "metadata": {},
   "outputs": [],
   "source": [
    "fsss=[] # first stable steady state before \n",
    "ssss=[] # second sss\n",
    "midpoint=[] # unstable steady state\n",
    "k3_axis=[]\n",
    "k1=k4=0.1\n",
    "k2=100 # k2 value for test\n",
    "x1=linspace(0,1.5,100000) # x1 fraction\n",
    "y0=x1*0\n",
    "k3sample1=logspace(3,5,1000)[65:630] \n",
    "for k3 in k3sample1:  \n",
    "    dx1  = -k1*((x1)**2) + k2*(0.5-0.5*x1) - k3*((x1)**2)*((0.5-0.5*x1)**2) + k4*((0.5-0.5*x1)**3)\n",
    "    index=np.where(np.logical_and(dx1>=-0.01, dx1<=+0.01))\n",
    "    index2=np.where(np.logical_and(x1[index]>=0.67, x1[index]<0.993))\n",
    "    midpoint.append(x1[index][index2][0])\n",
    "    index4=np.where(np.logical_and(x1[index]>=0.993, x1[index]<=1))\n",
    "    ssss.append(x1[index][index4][0])\n",
    "    index3=np.where(np.logical_and(x1[index]>=0, x1[index]<0.67))\n",
    "    fsss.append(x1[index][index3][0])\n",
    "    k3_axis.append(k3)"
   ]
  },
  {
   "cell_type": "markdown",
   "metadata": {},
   "source": [
    "#### 3.3 Third interval"
   ]
  },
  {
   "cell_type": "code",
   "execution_count": 6,
   "metadata": {},
   "outputs": [
    {
     "name": "stdout",
     "output_type": "stream",
     "text": [
      "ready\n"
     ]
    }
   ],
   "source": [
    "fsss2=[] # first stable steady state\n",
    "k3_axis2=[]\n",
    "k1=k4=0.1\n",
    "k2=100\n",
    "x1=linspace(0,1.5,100000)\n",
    "y0=x1*0\n",
    "k3sample2=logspace(3,5,1000)[640:900]\n",
    "for k3 in k3sample2:  \n",
    "    dx1  = -k1*((x1)**2) + k2*(0.5-0.5*x1) - k3*((x1)**2)*((0.5-0.5*x1)**2) + k4*((0.5-0.5*x1)**3)\n",
    "    index=np.where(np.logical_and(dx1>=-0.1, dx1<=+0.1))\n",
    "    index3=np.where(np.logical_and(x1[index]>=0, x1[index]<0.67))\n",
    "    fsss2.append(x1[index][index3][0])\n",
    "    k3_axis2.append(k3)\n",
    "print(\"ready\")"
   ]
  },
  {
   "cell_type": "markdown",
   "metadata": {},
   "source": [
    "# 4. Combining and plotting intervals"
   ]
  },
  {
   "cell_type": "code",
   "execution_count": 7,
   "metadata": {},
   "outputs": [
    {
     "name": "stderr",
     "output_type": "stream",
     "text": [
      "/home/local/WIN/bciezah1/.local/lib/python2.7/site-packages/matplotlib/font_manager.py:1333: UserWarning: findfont: Font family [u'sans-serif'] not found. Falling back to DejaVu Sans\n",
      "  (prop.get_family(), self.defaultFamily[fontext]))\n"
     ]
    },
    {
     "data": {
      "image/png": "[encoded data removed]",
      "text/plain": [
       "<Figure size 432x288 with 1 Axes>"
      ]
     },
     "metadata": {
      "needs_background": "light"
     },
     "output_type": "display_data"
    }
   ],
   "source": [
    "fig, ax = plt.subplots()\n",
    "ax.plot(k3_axis0,fsss0,'b-',**plotStyles)\n",
    "ax.plot(k3_axis,midpoint,'r--',**plotStyles)\n",
    "ax.plot(k3_axis,fsss,'b-',**plotStyles)\n",
    "ax.plot(k3_axis,ssss,'b-',**plotStyles)\n",
    "ax.plot(k3_axis2,fsss2,'b-',**plotStyles)\n",
    "ax.plot(1349.36,0.668,'go',**plotStyles)\n",
    "ax.plot(1349.36,1,'go',**plotStyles)\n",
    "ax.plot(18500,1,'go',**plotStyles)\n",
    "ax.plot(18500,0.1085,'go',**plotStyles)\n",
    "xlim([1e+2,1e+5])\n",
    "yscale('log')\n",
    "xscale('log')\n",
    "ax.tick_params(axis='both',which='major',labelsize=30)\n",
    "xlabel('$\\mathregular{k_3}$ (s${^{-1}}$)',fontsize=30);ylabel('$\\mathregular{f_{X}}$',fontsize=30)\n",
    "tight_layout()"
   ]
  },
  {
   "cell_type": "markdown",
   "metadata": {},
   "source": [
    "# 5. END"
   ]
  },
  {
   "cell_type": "code",
   "execution_count": null,
   "metadata": {},
   "outputs": [],
   "source": []
  }
 ],
 "metadata": {
  "kernelspec": {
   "display_name": "Python 2",
   "language": "python",
   "name": "python2"
  },
  "language_info": {
   "codemirror_mode": {
    "name": "ipython",
    "version": 2
   },
   "file_extension": ".py",
   "mimetype": "text/x-python",
   "name": "python",
   "nbconvert_exporter": "python",
   "pygments_lexer": "ipython2",
   "version": "2.7.17"
  }
 },
 "nbformat": 4,
 "nbformat_minor": 2
}
