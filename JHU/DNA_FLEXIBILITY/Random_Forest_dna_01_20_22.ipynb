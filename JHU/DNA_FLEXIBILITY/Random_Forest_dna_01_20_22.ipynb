{
 "cells": [
  {
   "cell_type": "markdown",
   "metadata": {},
   "source": [
    "# A. Importing Library"
   ]
  },
  {
   "cell_type": "code",
   "execution_count": 44,
   "metadata": {},
   "outputs": [],
   "source": [
    "from sklearn import metrics\n",
    "from sklearn import decomposition\n",
    "from sklearn import manifold\n",
    "import matplotlib.pyplot as plt\n",
    "import numpy as np\n",
    "import pandas as pd \n",
    "from sklearn.ensemble import GradientBoostingClassifier, GradientBoostingRegressor\n",
    "from sklearn.ensemble import RandomForestRegressor, RandomForestClassifier\n",
    "from sklearn.svm import SVR\n",
    "from sklearn.neural_network import MLPClassifier,MLPRegressor\n",
    "from sklearn.model_selection import GridSearchCV\n",
    "\n",
    "import tensorflow as tf\n",
    "from tensorflow import keras\n",
    "from keras.datasets import mnist\n",
    "from keras.models import Sequential\n",
    "from keras.layers import Dense\n",
    "from keras.layers import Dropout\n",
    "from keras.utils import np_utils\n",
    "from sklearn.preprocessing import StandardScaler\n",
    "\n",
    "from sklearn.model_selection import train_test_split\n",
    "from keras.layers import Dense, Dropout, Flatten, Conv1D, MaxPooling1D\n",
    "\n",
    "from numpy.random import randn\n",
    "from numpy.random import seed\n",
    "from scipy.stats import pearsonr\n",
    "from matplotlib.pyplot import figure\n",
    "from sklearn.metrics import accuracy_score, precision_score, recall_score\n",
    "\n",
    "import joblib\n",
    "from sklearn.ensemble import GradientBoostingClassifier\n",
    "from sklearn.model_selection import GridSearchCV\n",
    "import warnings\n",
    "warnings.filterwarnings('ignore', category=FutureWarning)\n",
    "warnings.filterwarnings('ignore', category=DeprecationWarning)"
   ]
  },
  {
   "cell_type": "markdown",
   "metadata": {},
   "source": [
    "# B. Defining functions"
   ]
  },
  {
   "cell_type": "code",
   "execution_count": 52,
   "metadata": {},
   "outputs": [],
   "source": [
    "# nucleotide to unit vector\n",
    "def one_hot(base):\n",
    "  return np.array({'a':[1,0,0,0], \n",
    "                   't':[0,1,0,0], \n",
    "                   'g':[0,0,1,0], \n",
    "                   'c':[0,0,0,1]}[base.lower()])\n",
    "\n",
    "# replace nucleotide for unit vector using one_hon()\n",
    "def Hot(seq): \n",
    "  seq_one_hot = np.zeros((len(seq)*4, )) # zero 200,1 matrix \n",
    "  for i in range(len(seq)): seq_one_hot[4*i : 4*i+4] = one_hot(seq[i])\n",
    "  return seq_one_hot\n",
    "\n",
    "# normalize data (-1 to +1)\n",
    "def NormalizeData(data):\n",
    "    return (data - np.min(data)) / (np.max(data) - np.min(data))\n",
    "\n",
    "# print results function\n",
    "def print_results(results):\n",
    "    print('Best Params: {}\\n'.format(results.best_params_))\n",
    "    \n",
    "    means = results.cv_results_['mean_test_score']\n",
    "    stds = results.cv_results_['std_test_score']\n",
    "    for mean, std, params in zip(means,stds, results.cv_results_['params']):\n",
    "        print('{} (+/-{}) for {}'.format(round(mean,3),round(std*2,3),params))\n",
    "\n",
    "        \n",
    "def clean_data(d1):\n",
    "    # change column name\n",
    "    d2 = d1.rename(columns={d1.columns[0]:'index',d1.columns[1]:'seq100',d1.columns[2]:'c26',d1.columns[3]:'c29', d1.columns[4]:'c31',d1.columns[5]:'c0'}) \n",
    "\n",
    "\n",
    "    # remove overhanger\n",
    "    seq =[]\n",
    "    for i in range(len(d2['seq100'])):\n",
    "        seq.append(d2['seq100'][i][25:75])\n",
    "    d3 = pd.DataFrame(seq,columns=['seq50'])\n",
    "    d4 = pd.concat([d2,d3],axis=1)\n",
    "    df = d4.drop(['index','seq100'],axis=1)\n",
    "\n",
    "    #take a random sample of 10000\n",
    "    df = df.sample(n=len(df))\n",
    "    return  df\n",
    "\n",
    "def encode_dna_seq(df):\n",
    "    # extract column of sequence\n",
    "    SeqList = df['seq50'].tolist()\n",
    "\n",
    "    # extract c0 values\n",
    "    dy = np.around(df['c0'].values,3) \n",
    "\n",
    "    # encode dna sequence\n",
    "    d = [] \n",
    "    for i in range(len(SeqList)): \n",
    "        d.append(Hot(SeqList[i])) \n",
    "    d = np.array(d)\n",
    "    dx = pd.DataFrame(d)\n",
    "    input = dx.values\n",
    "    return input,dy\n",
    "\n",
    "def split_data_tvt(dx,dy):\n",
    "    x_train, x_test, y_train, y_test  = train_test_split(dx,dy,shuffle=True, test_size=0.40, random_state=1234)\n",
    "    x_val, x_test, y_val, y_test  = train_test_split(x_test,y_test,shuffle=True, test_size=0.50, random_state=1234)\n",
    "    return x_train, y_train, x_val, y_val, x_test, y_test"
   ]
  },
  {
   "cell_type": "markdown",
   "metadata": {},
   "source": [
    "# C. Importing data"
   ]
  },
  {
   "cell_type": "code",
   "execution_count": 53,
   "metadata": {},
   "outputs": [
    {
     "name": "stdout",
     "output_type": "stream",
     "text": [
      "ready\n"
     ]
    }
   ],
   "source": [
    "d = pd.read_csv('C:/Users/bciez/Documents/Basilio/jhu/ha-lab/dna_flexibility/thesis_01_18_2022/data/dataset1.txt',delimiter='\\t')\n",
    "print('ready')"
   ]
  },
  {
   "cell_type": "markdown",
   "metadata": {},
   "source": [
    "# D. Cleaning data"
   ]
  },
  {
   "cell_type": "code",
   "execution_count": 54,
   "metadata": {},
   "outputs": [
    {
     "data": {
      "text/html": [
       "<div>\n",
       "<style scoped>\n",
       "    .dataframe tbody tr th:only-of-type {\n",
       "        vertical-align: middle;\n",
       "    }\n",
       "\n",
       "    .dataframe tbody tr th {\n",
       "        vertical-align: top;\n",
       "    }\n",
       "\n",
       "    .dataframe thead th {\n",
       "        text-align: right;\n",
       "    }\n",
       "</style>\n",
       "<table border=\"1\" class=\"dataframe\">\n",
       "  <thead>\n",
       "    <tr style=\"text-align: right;\">\n",
       "      <th></th>\n",
       "      <th>c26</th>\n",
       "      <th>c29</th>\n",
       "      <th>c31</th>\n",
       "      <th>c0</th>\n",
       "      <th>Amplitude</th>\n",
       "      <th>Phase</th>\n",
       "      <th>seq50</th>\n",
       "    </tr>\n",
       "  </thead>\n",
       "  <tbody>\n",
       "    <tr>\n",
       "      <th>5465</th>\n",
       "      <td>0.091293</td>\n",
       "      <td>1.068844</td>\n",
       "      <td>1.085774</td>\n",
       "      <td>0.473450</td>\n",
       "      <td>0.559492</td>\n",
       "      <td>-0.751920</td>\n",
       "      <td>TGGTCAGCCAATACTTCCTCAAAACCTTTAGTATGGGGCGCGAGAA...</td>\n",
       "    </tr>\n",
       "    <tr>\n",
       "      <th>13281</th>\n",
       "      <td>-0.466442</td>\n",
       "      <td>-0.043337</td>\n",
       "      <td>0.139102</td>\n",
       "      <td>-0.222521</td>\n",
       "      <td>0.260415</td>\n",
       "      <td>-1.212974</td>\n",
       "      <td>CATTACAATGTTATTGATATTATCTGTGCTCTCAAATTCGGCTGAA...</td>\n",
       "    </tr>\n",
       "    <tr>\n",
       "      <th>19750</th>\n",
       "      <td>-0.394750</td>\n",
       "      <td>0.393218</td>\n",
       "      <td>0.436430</td>\n",
       "      <td>-0.073451</td>\n",
       "      <td>0.449903</td>\n",
       "      <td>-0.795412</td>\n",
       "      <td>AGTAGTCTTCTACCAAATAAAAATAGATTCCTGATTGGGTATTTTT...</td>\n",
       "    </tr>\n",
       "  </tbody>\n",
       "</table>\n",
       "</div>"
      ],
      "text/plain": [
       "            c26       c29       c31        c0   Amplitude     Phase  \\\n",
       "5465   0.091293  1.068844  1.085774  0.473450    0.559492 -0.751920   \n",
       "13281 -0.466442 -0.043337  0.139102 -0.222521    0.260415 -1.212974   \n",
       "19750 -0.394750  0.393218  0.436430 -0.073451    0.449903 -0.795412   \n",
       "\n",
       "                                                   seq50  \n",
       "5465   TGGTCAGCCAATACTTCCTCAAAACCTTTAGTATGGGGCGCGAGAA...  \n",
       "13281  CATTACAATGTTATTGATATTATCTGTGCTCTCAAATTCGGCTGAA...  \n",
       "19750  AGTAGTCTTCTACCAAATAAAAATAGATTCCTGATTGGGTATTTTT...  "
      ]
     },
     "execution_count": 54,
     "metadata": {},
     "output_type": "execute_result"
    }
   ],
   "source": [
    "df = clean_data(d)\n",
    "df.head(3)"
   ]
  },
  {
   "cell_type": "markdown",
   "metadata": {},
   "source": [
    "# E. Encoding DNA sequence"
   ]
  },
  {
   "cell_type": "code",
   "execution_count": 55,
   "metadata": {},
   "outputs": [
    {
     "name": "stdout",
     "output_type": "stream",
     "text": [
      "ready\n"
     ]
    }
   ],
   "source": [
    "dx,dy = encode_dna_seq(df)\n",
    "print('ready')"
   ]
  },
  {
   "cell_type": "markdown",
   "metadata": {},
   "source": [
    "# F. Split data in training and testing set"
   ]
  },
  {
   "cell_type": "code",
   "execution_count": 56,
   "metadata": {},
   "outputs": [
    {
     "name": "stdout",
     "output_type": "stream",
     "text": [
      "ready\n"
     ]
    }
   ],
   "source": [
    "x_train, y_train, x_val, y_val, x_test, y_test = split_data_tvt(dx,dy)\n",
    "print('ready')"
   ]
  },
  {
   "cell_type": "markdown",
   "metadata": {},
   "source": [
    "# G. Random Forest"
   ]
  },
  {
   "cell_type": "code",
   "execution_count": 58,
   "metadata": {},
   "outputs": [
    {
     "name": "stdout",
     "output_type": "stream",
     "text": [
      "Best Params: {'max_depth': 20, 'n_estimators': 1000}\n",
      "\n",
      "0.032 (+/-0.002) for {'max_depth': 5, 'n_estimators': 50}\n",
      "0.034 (+/-0.003) for {'max_depth': 5, 'n_estimators': 1000}\n",
      "0.055 (+/-0.008) for {'max_depth': 20, 'n_estimators': 50}\n",
      "0.077 (+/-0.006) for {'max_depth': 20, 'n_estimators': 1000}\n"
     ]
    }
   ],
   "source": [
    "rf = RandomForestRegressor()\n",
    "parameters = {\n",
    "    'n_estimators': [50,1000],\n",
    "    'max_depth': [5,20]\n",
    "}\n",
    "\n",
    "cv = GridSearchCV(rf, parameters, cv = 5)\n",
    "cv.fit(x_train, y_train)\n",
    "\n",
    "print_results(cv)"
   ]
  },
  {
   "cell_type": "markdown",
   "metadata": {},
   "source": [
    "# H. Saving model"
   ]
  },
  {
   "cell_type": "code",
   "execution_count": 24,
   "metadata": {},
   "outputs": [
    {
     "data": {
      "text/plain": [
       "['rf_model.pkl']"
      ]
     },
     "execution_count": 24,
     "metadata": {},
     "output_type": "execute_result"
    }
   ],
   "source": [
    "joblib.dump(cv.best_estimator_,'rf_model.pkl')"
   ]
  },
  {
   "cell_type": "markdown",
   "metadata": {},
   "source": [
    "# I. Best Model"
   ]
  },
  {
   "cell_type": "code",
   "execution_count": 26,
   "metadata": {},
   "outputs": [
    {
     "data": {
      "text/plain": [
       "RandomForestRegressor(bootstrap=True, ccp_alpha=0.0, criterion='mse',\n",
       "                      max_depth=20, max_features=5, max_leaf_nodes=None,\n",
       "                      max_samples=None, min_impurity_decrease=0.0,\n",
       "                      min_impurity_split=None, min_samples_leaf=20,\n",
       "                      min_samples_split=2, min_weight_fraction_leaf=0.0,\n",
       "                      n_estimators=100, n_jobs=None, oob_score=False,\n",
       "                      random_state=None, verbose=0, warm_start=False)"
      ]
     },
     "execution_count": 26,
     "metadata": {},
     "output_type": "execute_result"
    }
   ],
   "source": [
    "cv.best_estimator_"
   ]
  },
  {
   "cell_type": "code",
   "execution_count": null,
   "metadata": {},
   "outputs": [],
   "source": []
  }
 ],
 "metadata": {
  "kernelspec": {
   "display_name": "Python 3",
   "language": "python",
   "name": "python3"
  },
  "language_info": {
   "codemirror_mode": {
    "name": "ipython",
    "version": 3
   },
   "file_extension": ".py",
   "mimetype": "text/x-python",
   "name": "python",
   "nbconvert_exporter": "python",
   "pygments_lexer": "ipython3",
   "version": "3.7.6"
  }
 },
 "nbformat": 4,
 "nbformat_minor": 4
}
