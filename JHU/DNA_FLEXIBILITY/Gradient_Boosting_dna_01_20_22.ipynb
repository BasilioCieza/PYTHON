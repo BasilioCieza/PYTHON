{
 "cells": [
  {
   "cell_type": "markdown",
   "metadata": {},
   "source": [
    "# A. Importing Library"
   ]
  },
  {
   "cell_type": "code",
   "execution_count": 1,
   "metadata": {},
   "outputs": [],
   "source": [
    "from sklearn import metrics\n",
    "from sklearn import decomposition\n",
    "from sklearn import manifold\n",
    "import matplotlib.pyplot as plt\n",
    "import numpy as np\n",
    "import pandas as pd \n",
    "from sklearn.ensemble import GradientBoostingClassifier, GradientBoostingRegressor\n",
    "from sklearn.ensemble import RandomForestRegressor, RandomForestClassifier\n",
    "from sklearn.svm import SVR\n",
    "from sklearn.neural_network import MLPClassifier,MLPRegressor\n",
    "from sklearn.model_selection import GridSearchCV\n",
    "\n",
    "import tensorflow as tf\n",
    "from tensorflow import keras\n",
    "from keras.datasets import mnist\n",
    "from keras.models import Sequential\n",
    "from keras.layers import Dense\n",
    "from keras.layers import Dropout\n",
    "from keras.utils import np_utils\n",
    "from sklearn.preprocessing import StandardScaler\n",
    "\n",
    "from sklearn.model_selection import train_test_split\n",
    "from keras.layers import Dense, Dropout, Flatten, Conv1D, MaxPooling1D\n",
    "\n",
    "from numpy.random import randn\n",
    "from numpy.random import seed\n",
    "from scipy.stats import pearsonr\n",
    "from matplotlib.pyplot import figure\n",
    "from sklearn.metrics import accuracy_score, precision_score, recall_score\n",
    "\n",
    "import joblib\n",
    "from sklearn.ensemble import GradientBoostingClassifier\n",
    "from sklearn.model_selection import GridSearchCV\n",
    "import warnings\n",
    "warnings.filterwarnings('ignore', category=FutureWarning)\n",
    "warnings.filterwarnings('ignore', category=DeprecationWarning)"
   ]
  },
  {
   "cell_type": "markdown",
   "metadata": {},
   "source": [
    "# B. Defining functions"
   ]
  },
  {
   "cell_type": "code",
   "execution_count": 2,
   "metadata": {},
   "outputs": [],
   "source": [
    "# nucleotide to unit vector\n",
    "def one_hot(base):\n",
    "  return np.array({'a':[1,0,0,0], \n",
    "                   't':[0,1,0,0], \n",
    "                   'g':[0,0,1,0], \n",
    "                   'c':[0,0,0,1]}[base.lower()])\n",
    "\n",
    "# replace nucleotide for unit vector using one_hon()\n",
    "def Hot(seq): \n",
    "  seq_one_hot = np.zeros((len(seq)*4, )) # zero 200,1 matrix \n",
    "  for i in range(len(seq)): seq_one_hot[4*i : 4*i+4] = one_hot(seq[i])\n",
    "  return seq_one_hot\n",
    "\n",
    "# normalize data (-1 to +1)\n",
    "def NormalizeData(data):\n",
    "    return (data - np.min(data)) / (np.max(data) - np.min(data))\n",
    "\n",
    "# print results function\n",
    "def print_results(results):\n",
    "    print('Best Params: {}\\n'.format(results.best_params_))\n",
    "    \n",
    "    means = results.cv_results_['mean_test_score']\n",
    "    stds = results.cv_results_['std_test_score']\n",
    "    for mean, std, params in zip(means,stds, results.cv_results_['params']):\n",
    "        print('{} (+/-{}) for {}'.format(round(mean,3),round(std*2,3),params))\n",
    "\n",
    "        \n",
    "def clean_data(d1):\n",
    "    # change column name\n",
    "    d2 = d1.rename(columns={d1.columns[0]:'index',d1.columns[1]:'seq100',d1.columns[2]:'c26',d1.columns[3]:'c29', d1.columns[4]:'c31',d1.columns[5]:'c0'}) \n",
    "\n",
    "\n",
    "    # remove overhanger\n",
    "    seq =[]\n",
    "    for i in range(len(d2['seq100'])):\n",
    "        seq.append(d2['seq100'][i][25:75])\n",
    "    d3 = pd.DataFrame(seq,columns=['seq50'])\n",
    "    d4 = pd.concat([d2,d3],axis=1)\n",
    "    df = d4.drop(['index','seq100'],axis=1)\n",
    "\n",
    "    #take a random sample of 10000\n",
    "    #df = df.sample(n=len(df))\n",
    "    df = df.sample(5000)\n",
    "    return  df\n",
    "\n",
    "def encode_dna_seq(df):\n",
    "    # extract column of sequence\n",
    "    SeqList = df['seq50'].tolist()\n",
    "\n",
    "    # extract c0 values\n",
    "    dy = np.around(df['c0'].values,3) \n",
    "\n",
    "    # encode dna sequence\n",
    "    d = [] \n",
    "    for i in range(len(SeqList)): \n",
    "        d.append(Hot(SeqList[i])) \n",
    "    d = np.array(d)\n",
    "    dx = pd.DataFrame(d)\n",
    "    input = dx.values\n",
    "    return input,dy\n",
    "\n",
    "def split_data_tvt(dx,dy):\n",
    "    x_train, x_test, y_train, y_test  = train_test_split(dx,dy,shuffle=True, test_size=0.40, random_state=1234)\n",
    "    x_val, x_test, y_val, y_test  = train_test_split(x_test,y_test,shuffle=True, test_size=0.50, random_state=1234)\n",
    "    return x_train, y_train, x_val, y_val, x_test, y_test"
   ]
  },
  {
   "cell_type": "markdown",
   "metadata": {},
   "source": [
    "# C. Importing data"
   ]
  },
  {
   "cell_type": "code",
   "execution_count": 3,
   "metadata": {},
   "outputs": [
    {
     "name": "stdout",
     "output_type": "stream",
     "text": [
      "ready\n"
     ]
    }
   ],
   "source": [
    "d = pd.read_csv('C:/Users/bciez/Documents/Basilio/jhu/ha-lab/dna_flexibility/thesis_01_18_2022/data/dataset1.txt',delimiter='\\t')\n",
    "print('ready')"
   ]
  },
  {
   "cell_type": "markdown",
   "metadata": {},
   "source": [
    "# D. Cleaning data"
   ]
  },
  {
   "cell_type": "code",
   "execution_count": 4,
   "metadata": {},
   "outputs": [
    {
     "data": {
      "text/html": [
       "<div>\n",
       "<style scoped>\n",
       "    .dataframe tbody tr th:only-of-type {\n",
       "        vertical-align: middle;\n",
       "    }\n",
       "\n",
       "    .dataframe tbody tr th {\n",
       "        vertical-align: top;\n",
       "    }\n",
       "\n",
       "    .dataframe thead th {\n",
       "        text-align: right;\n",
       "    }\n",
       "</style>\n",
       "<table border=\"1\" class=\"dataframe\">\n",
       "  <thead>\n",
       "    <tr style=\"text-align: right;\">\n",
       "      <th></th>\n",
       "      <th>c26</th>\n",
       "      <th>c29</th>\n",
       "      <th>c31</th>\n",
       "      <th>c0</th>\n",
       "      <th>Amplitude</th>\n",
       "      <th>Phase</th>\n",
       "      <th>seq50</th>\n",
       "    </tr>\n",
       "  </thead>\n",
       "  <tbody>\n",
       "    <tr>\n",
       "      <th>9262</th>\n",
       "      <td>0.424531</td>\n",
       "      <td>-0.089857</td>\n",
       "      <td>-0.777968</td>\n",
       "      <td>-0.081096</td>\n",
       "      <td>0.519038</td>\n",
       "      <td>-11.223393</td>\n",
       "      <td>CTCAAAACGCACAAAAATAAACATATGTATATATAGACATACACAC...</td>\n",
       "    </tr>\n",
       "    <tr>\n",
       "      <th>1761</th>\n",
       "      <td>-0.224606</td>\n",
       "      <td>-0.939009</td>\n",
       "      <td>-0.986435</td>\n",
       "      <td>-0.519606</td>\n",
       "      <td>-0.407753</td>\n",
       "      <td>-0.808827</td>\n",
       "      <td>TTCCAATTTAGCAACAATTGGTCAAAAGTATACTGACTCAAATCTT...</td>\n",
       "    </tr>\n",
       "    <tr>\n",
       "      <th>1568</th>\n",
       "      <td>0.855314</td>\n",
       "      <td>-1.093159</td>\n",
       "      <td>-0.412966</td>\n",
       "      <td>0.413702</td>\n",
       "      <td>-1.244731</td>\n",
       "      <td>-0.362684</td>\n",
       "      <td>CCATCACTGGTCCAAAAAAAGTACTTACCTACCCCACAAGATACAA...</td>\n",
       "    </tr>\n",
       "  </tbody>\n",
       "</table>\n",
       "</div>"
      ],
      "text/plain": [
       "           c26       c29       c31        c0   Amplitude      Phase  \\\n",
       "9262  0.424531 -0.089857 -0.777968 -0.081096    0.519038 -11.223393   \n",
       "1761 -0.224606 -0.939009 -0.986435 -0.519606   -0.407753  -0.808827   \n",
       "1568  0.855314 -1.093159 -0.412966  0.413702   -1.244731  -0.362684   \n",
       "\n",
       "                                                  seq50  \n",
       "9262  CTCAAAACGCACAAAAATAAACATATGTATATATAGACATACACAC...  \n",
       "1761  TTCCAATTTAGCAACAATTGGTCAAAAGTATACTGACTCAAATCTT...  \n",
       "1568  CCATCACTGGTCCAAAAAAAGTACTTACCTACCCCACAAGATACAA...  "
      ]
     },
     "execution_count": 4,
     "metadata": {},
     "output_type": "execute_result"
    }
   ],
   "source": [
    "df = clean_data(d)\n",
    "df.head(3)"
   ]
  },
  {
   "cell_type": "markdown",
   "metadata": {},
   "source": [
    "# E. Encoding DNA sequence"
   ]
  },
  {
   "cell_type": "code",
   "execution_count": 5,
   "metadata": {},
   "outputs": [
    {
     "name": "stdout",
     "output_type": "stream",
     "text": [
      "ready\n"
     ]
    }
   ],
   "source": [
    "dx,dy = encode_dna_seq(df)\n",
    "print('ready')"
   ]
  },
  {
   "cell_type": "markdown",
   "metadata": {},
   "source": [
    "# F. Split data in training and testing set"
   ]
  },
  {
   "cell_type": "code",
   "execution_count": 6,
   "metadata": {},
   "outputs": [
    {
     "name": "stdout",
     "output_type": "stream",
     "text": [
      "ready\n"
     ]
    }
   ],
   "source": [
    "x_train, y_train, x_val, y_val, x_test, y_test = split_data_tvt(dx,dy)\n",
    "print('ready')"
   ]
  },
  {
   "cell_type": "markdown",
   "metadata": {},
   "source": [
    "# G. Gradient Boosting"
   ]
  },
  {
   "cell_type": "code",
   "execution_count": 7,
   "metadata": {},
   "outputs": [
    {
     "name": "stdout",
     "output_type": "stream",
     "text": [
      "Best Params: {'learning_rate': 0.1, 'max_depth': 4, 'n_estimators': 500}\n",
      "\n",
      "0.029 (+/-0.056) for {'learning_rate': 0.1, 'max_depth': 3, 'n_estimators': 500}\n",
      "0.015 (+/-0.057) for {'learning_rate': 0.1, 'max_depth': 3, 'n_estimators': 1000}\n",
      "0.031 (+/-0.058) for {'learning_rate': 0.1, 'max_depth': 4, 'n_estimators': 500}\n",
      "0.025 (+/-0.058) for {'learning_rate': 0.1, 'max_depth': 4, 'n_estimators': 1000}\n"
     ]
    }
   ],
   "source": [
    "gb = GradientBoostingRegressor()\n",
    "parameters = {\n",
    "    'n_estimators': [500,1000],\n",
    "    'max_depth': [3,4],\n",
    "    'learning_rate': [0.1]\n",
    "}\n",
    "\n",
    "cv = GridSearchCV(gb, parameters, cv = 5)\n",
    "cv.fit(x_train, y_train)\n",
    "\n",
    "print_results(cv)"
   ]
  },
  {
   "cell_type": "markdown",
   "metadata": {},
   "source": [
    "# H. Saving model"
   ]
  },
  {
   "cell_type": "code",
   "execution_count": 9,
   "metadata": {},
   "outputs": [
    {
     "data": {
      "text/plain": [
       "['gb_model.pkl']"
      ]
     },
     "execution_count": 9,
     "metadata": {},
     "output_type": "execute_result"
    }
   ],
   "source": [
    "joblib.dump(cv.best_estimator_,'gb_model.pkl')"
   ]
  },
  {
   "cell_type": "markdown",
   "metadata": {},
   "source": [
    "# I. Best Model"
   ]
  },
  {
   "cell_type": "code",
   "execution_count": 10,
   "metadata": {},
   "outputs": [
    {
     "data": {
      "text/plain": [
       "GradientBoostingRegressor(alpha=0.9, ccp_alpha=0.0, criterion='friedman_mse',\n",
       "                          init=None, learning_rate=0.1, loss='ls', max_depth=4,\n",
       "                          max_features=None, max_leaf_nodes=None,\n",
       "                          min_impurity_decrease=0.0, min_impurity_split=None,\n",
       "                          min_samples_leaf=1, min_samples_split=2,\n",
       "                          min_weight_fraction_leaf=0.0, n_estimators=300,\n",
       "                          n_iter_no_change=None, presort='deprecated',\n",
       "                          random_state=None, subsample=1.0, tol=0.0001,\n",
       "                          validation_fraction=0.1, verbose=0, warm_start=False)"
      ]
     },
     "execution_count": 10,
     "metadata": {},
     "output_type": "execute_result"
    }
   ],
   "source": [
    "cv.best_estimator_"
   ]
  },
  {
   "cell_type": "code",
   "execution_count": null,
   "metadata": {},
   "outputs": [],
   "source": []
  }
 ],
 "metadata": {
  "kernelspec": {
   "display_name": "Python 3",
   "language": "python",
   "name": "python3"
  },
  "language_info": {
   "codemirror_mode": {
    "name": "ipython",
    "version": 3
   },
   "file_extension": ".py",
   "mimetype": "text/x-python",
   "name": "python",
   "nbconvert_exporter": "python",
   "pygments_lexer": "ipython3",
   "version": "3.7.6"
  }
 },
 "nbformat": 4,
 "nbformat_minor": 4
}
