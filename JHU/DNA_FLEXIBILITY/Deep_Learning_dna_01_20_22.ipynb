{
 "cells": [
  {
   "cell_type": "markdown",
   "metadata": {},
   "source": [
    "# A. Importing Library"
   ]
  },
  {
   "cell_type": "code",
   "execution_count": 1,
   "metadata": {},
   "outputs": [],
   "source": [
    "from sklearn import metrics\n",
    "from sklearn import decomposition\n",
    "from sklearn import manifold\n",
    "import matplotlib.pyplot as plt\n",
    "import numpy as np\n",
    "import pandas as pd \n",
    "from sklearn.ensemble import GradientBoostingClassifier, GradientBoostingRegressor\n",
    "from sklearn.ensemble import RandomForestRegressor, RandomForestClassifier\n",
    "from sklearn.svm import SVR\n",
    "from sklearn.neural_network import MLPClassifier,MLPRegressor\n",
    "from sklearn.model_selection import GridSearchCV\n",
    "\n",
    "import tensorflow as tf\n",
    "from tensorflow import keras\n",
    "from keras.datasets import mnist\n",
    "from keras.models import Sequential\n",
    "from keras.layers import Dense\n",
    "from keras.layers import Dropout\n",
    "from keras.utils import np_utils\n",
    "from sklearn.preprocessing import StandardScaler\n",
    "\n",
    "from sklearn.model_selection import train_test_split\n",
    "from keras.layers import Dense, Dropout, Flatten, Conv1D, MaxPooling1D\n",
    "\n",
    "from numpy.random import randn\n",
    "from numpy.random import seed\n",
    "from scipy.stats import pearsonr\n",
    "from matplotlib.pyplot import figure\n",
    "from sklearn.metrics import accuracy_score, precision_score, recall_score\n",
    "\n",
    "import joblib\n",
    "from sklearn.ensemble import GradientBoostingClassifier\n",
    "from sklearn.model_selection import GridSearchCV\n",
    "import warnings\n",
    "warnings.filterwarnings('ignore', category=FutureWarning)\n",
    "warnings.filterwarnings('ignore', category=DeprecationWarning)"
   ]
  },
  {
   "cell_type": "markdown",
   "metadata": {},
   "source": [
    "# B. Defining functions"
   ]
  },
  {
   "cell_type": "code",
   "execution_count": 2,
   "metadata": {},
   "outputs": [],
   "source": [
    "# nucleotide to unit vector\n",
    "def one_hot(base):\n",
    "  return np.array({'a':[1,0,0,0], \n",
    "                   't':[0,1,0,0], \n",
    "                   'g':[0,0,1,0], \n",
    "                   'c':[0,0,0,1]}[base.lower()])\n",
    "\n",
    "# replace nucleotide for unit vector using one_hon()\n",
    "def Hot(seq): \n",
    "  seq_one_hot = np.zeros((len(seq)*4, )) # zero 200,1 matrix \n",
    "  for i in range(len(seq)): seq_one_hot[4*i : 4*i+4] = one_hot(seq[i])\n",
    "  return seq_one_hot\n",
    "\n",
    "# normalize data (-1 to +1)\n",
    "def NormalizeData(data):\n",
    "    return (data - np.min(data)) / (np.max(data) - np.min(data))\n",
    "\n",
    "# print results function\n",
    "def print_results(results):\n",
    "    print('Best Params: {}\\n'.format(results.best_params_))\n",
    "    \n",
    "    means = results.cv_results_['mean_test_score']\n",
    "    stds = results.cv_results_['std_test_score']\n",
    "    for mean, std, params in zip(means,stds, results.cv_results_['params']):\n",
    "        print('{} (+/-{}) for {}'.format(round(mean,3),round(std*2,3),params))\n",
    "\n",
    "        \n",
    "def clean_data(d1):\n",
    "    # change column name\n",
    "    d2 = d1.rename(columns={d1.columns[0]:'index',d1.columns[1]:'seq100',d1.columns[2]:'c26',d1.columns[3]:'c29', d1.columns[4]:'c31',d1.columns[5]:'c0'}) \n",
    "\n",
    "\n",
    "    # remove overhanger\n",
    "    seq =[]\n",
    "    for i in range(len(d2['seq100'])):\n",
    "        seq.append(d2['seq100'][i][25:75])\n",
    "    d3 = pd.DataFrame(seq,columns=['seq50'])\n",
    "    d4 = pd.concat([d2,d3],axis=1)\n",
    "    df = d4.drop(['index','seq100'],axis=1)\n",
    "\n",
    "    #take a random sample of 10000\n",
    "    df = df.sample(n=len(df))\n",
    "    return  df\n",
    "\n",
    "def encode_dna_seq(df):\n",
    "    # extract column of sequence\n",
    "    SeqList = df['seq50'].tolist()\n",
    "\n",
    "    # extract c0 values\n",
    "    dy = np.around(df['c0'].values,3) \n",
    "\n",
    "    # encode dna sequence\n",
    "    d = [] \n",
    "    for i in range(len(SeqList)): \n",
    "        d.append(Hot(SeqList[i])) \n",
    "    d = np.array(d)\n",
    "    dx = pd.DataFrame(d)\n",
    "    input = dx.values\n",
    "    return input,dy\n",
    "\n",
    "def split_data_tvt(dx,dy):\n",
    "    x_train, x_test, y_train, y_test  = train_test_split(dx,dy,shuffle=True, test_size=0.40, random_state=1234)\n",
    "    x_val, x_test, y_val, y_test  = train_test_split(x_test,y_test,shuffle=True, test_size=0.50, random_state=1234)\n",
    "    return x_train, y_train, x_val, y_val, x_test, y_test"
   ]
  },
  {
   "cell_type": "markdown",
   "metadata": {},
   "source": [
    "# C. Importing data"
   ]
  },
  {
   "cell_type": "code",
   "execution_count": 3,
   "metadata": {},
   "outputs": [
    {
     "name": "stdout",
     "output_type": "stream",
     "text": [
      "ready\n"
     ]
    }
   ],
   "source": [
    "d = pd.read_csv('C:/Users/bciez/Documents/Basilio/jhu/ha-lab/dna_flexibility/thesis_01_18_2022/data/dataset3.txt',delimiter='\\t')\n",
    "print('ready')"
   ]
  },
  {
   "cell_type": "markdown",
   "metadata": {},
   "source": [
    "# D. Cleaning data"
   ]
  },
  {
   "cell_type": "code",
   "execution_count": 4,
   "metadata": {},
   "outputs": [
    {
     "data": {
      "text/html": [
       "<div>\n",
       "<style scoped>\n",
       "    .dataframe tbody tr th:only-of-type {\n",
       "        vertical-align: middle;\n",
       "    }\n",
       "\n",
       "    .dataframe tbody tr th {\n",
       "        vertical-align: top;\n",
       "    }\n",
       "\n",
       "    .dataframe thead th {\n",
       "        text-align: right;\n",
       "    }\n",
       "</style>\n",
       "<table border=\"1\" class=\"dataframe\">\n",
       "  <thead>\n",
       "    <tr style=\"text-align: right;\">\n",
       "      <th></th>\n",
       "      <th>c26</th>\n",
       "      <th>c29</th>\n",
       "      <th>c31</th>\n",
       "      <th>c0</th>\n",
       "      <th>Amplitude</th>\n",
       "      <th>Phase</th>\n",
       "      <th>seq50</th>\n",
       "    </tr>\n",
       "  </thead>\n",
       "  <tbody>\n",
       "    <tr>\n",
       "      <th>10795</th>\n",
       "      <td>-0.095716</td>\n",
       "      <td>-0.486001</td>\n",
       "      <td>-0.463561</td>\n",
       "      <td>-0.235199</td>\n",
       "      <td>-0.225695</td>\n",
       "      <td>-0.666217</td>\n",
       "      <td>GCTACGGAAGCCCCGGCCAGTGCGCACCCCGCCGAGTTCCTTACAT...</td>\n",
       "    </tr>\n",
       "    <tr>\n",
       "      <th>2270</th>\n",
       "      <td>-0.155811</td>\n",
       "      <td>-0.604154</td>\n",
       "      <td>-0.219390</td>\n",
       "      <td>-0.155084</td>\n",
       "      <td>-0.379438</td>\n",
       "      <td>0.001916</td>\n",
       "      <td>TCTATCACTTAGCGCGGGTGGCTCTGCCCGTCGACAGCAGCTACCT...</td>\n",
       "    </tr>\n",
       "    <tr>\n",
       "      <th>515</th>\n",
       "      <td>-1.041432</td>\n",
       "      <td>-1.174699</td>\n",
       "      <td>-0.492700</td>\n",
       "      <td>-0.786706</td>\n",
       "      <td>-0.466202</td>\n",
       "      <td>0.578042</td>\n",
       "      <td>GGGGAACGGTCACGTTCTCTTCATAGTTGAACGGTCAATGTAAAGA...</td>\n",
       "    </tr>\n",
       "  </tbody>\n",
       "</table>\n",
       "</div>"
      ],
      "text/plain": [
       "            c26       c29       c31        c0   Amplitude     Phase  \\\n",
       "10795 -0.095716 -0.486001 -0.463561 -0.235199   -0.225695 -0.666217   \n",
       "2270  -0.155811 -0.604154 -0.219390 -0.155084   -0.379438  0.001916   \n",
       "515   -1.041432 -1.174699 -0.492700 -0.786706   -0.466202  0.578042   \n",
       "\n",
       "                                                   seq50  \n",
       "10795  GCTACGGAAGCCCCGGCCAGTGCGCACCCCGCCGAGTTCCTTACAT...  \n",
       "2270   TCTATCACTTAGCGCGGGTGGCTCTGCCCGTCGACAGCAGCTACCT...  \n",
       "515    GGGGAACGGTCACGTTCTCTTCATAGTTGAACGGTCAATGTAAAGA...  "
      ]
     },
     "execution_count": 4,
     "metadata": {},
     "output_type": "execute_result"
    }
   ],
   "source": [
    "df = clean_data(d)\n",
    "df.head(3)"
   ]
  },
  {
   "cell_type": "markdown",
   "metadata": {},
   "source": [
    "# E. Encoding DNA sequence"
   ]
  },
  {
   "cell_type": "code",
   "execution_count": 5,
   "metadata": {},
   "outputs": [
    {
     "name": "stdout",
     "output_type": "stream",
     "text": [
      "ready\n"
     ]
    }
   ],
   "source": [
    "dx,dy = encode_dna_seq(df)\n",
    "print('ready')"
   ]
  },
  {
   "cell_type": "markdown",
   "metadata": {},
   "source": [
    "# F. Split data in training and testing set"
   ]
  },
  {
   "cell_type": "code",
   "execution_count": 6,
   "metadata": {},
   "outputs": [
    {
     "name": "stdout",
     "output_type": "stream",
     "text": [
      "ready\n"
     ]
    }
   ],
   "source": [
    "x_train, y_train, x_val, y_val, x_test, y_test = split_data_tvt(dx,dy)\n",
    "\n",
    "dim = x_train.shape\n",
    "x_train = x_train.reshape(dim[0],dim[1],1)\n",
    "\n",
    "dim = x_test.shape\n",
    "x_test = x_test.reshape(dim[0],dim[1],1)\n",
    "print('ready')"
   ]
  },
  {
   "cell_type": "markdown",
   "metadata": {},
   "source": [
    "# G. Support Vector Machine"
   ]
  },
  {
   "cell_type": "code",
   "execution_count": 7,
   "metadata": {},
   "outputs": [],
   "source": [
    "model = keras.Sequential([\n",
    "  keras.layers.Input(shape=(200, 1)), \n",
    "  keras.layers.Conv1D(filters=64, kernel_size=20, strides=4, activation=tf.nn.relu), \n",
    "  keras.layers.Conv1D(filters=32, kernel_size=33, activation=tf.nn.relu), \n",
    "  keras.layers.Flatten(), \n",
    "\tkeras.layers.Dense(50, activation=tf.nn.relu, kernel_regularizer=keras.regularizers.l2(0.001)),\n",
    "\tkeras.layers.Dense(1)\n",
    "\t]) # defining model\n",
    "\n",
    "model.compile(optimizer=keras.optimizers.Adam(lr=0.001),\n",
    "\tloss='mse',\n",
    "\tmetrics=['mse']) # compiling model"
   ]
  },
  {
   "cell_type": "code",
   "execution_count": 8,
   "metadata": {},
   "outputs": [
    {
     "name": "stdout",
     "output_type": "stream",
     "text": [
      "Epoch 1/6\n",
      "234/234 - 2s - loss: 0.1771 - mse: 0.1473 - val_loss: 0.1332 - val_mse: 0.1246\n",
      "Epoch 2/6\n",
      "234/234 - 1s - loss: 0.1346 - mse: 0.1292 - val_loss: 0.1100 - val_mse: 0.1065\n",
      "Epoch 3/6\n",
      "234/234 - 1s - loss: 0.0976 - mse: 0.0938 - val_loss: 0.0690 - val_mse: 0.0650\n",
      "Epoch 4/6\n",
      "234/234 - 1s - loss: 0.0604 - mse: 0.0565 - val_loss: 0.0564 - val_mse: 0.0528\n",
      "Epoch 5/6\n",
      "234/234 - 1s - loss: 0.0505 - mse: 0.0468 - val_loss: 0.0515 - val_mse: 0.0478\n",
      "Epoch 6/6\n",
      "234/234 - 1s - loss: 0.0422 - mse: 0.0384 - val_loss: 0.0546 - val_mse: 0.0509\n"
     ]
    }
   ],
   "source": [
    "sample_size = x_train.shape[0] # number of samples in train set\n",
    "time_steps  = x_train.shape[1] # number of features in train set\n",
    "input_dimension = 1               # each feature is represented by 1 number\n",
    "re_input = x_train.reshape(sample_size,time_steps,input_dimension)\n",
    "\n",
    "\n",
    "#train_images, test_images, train_labels, test_labels = train_test_split(re_input, df['C0'].values, test_size=0.1) # splitting data on trainning and testing\n",
    "\n",
    "model_history  = model.fit(x_train, y_train,\n",
    "\tepochs=6,\n",
    "\tvalidation_data=(x_test, y_test),\n",
    "\tverbose=2) # fitting the model"
   ]
  },
  {
   "cell_type": "code",
   "execution_count": 9,
   "metadata": {},
   "outputs": [
    {
     "name": "stdout",
     "output_type": "stream",
     "text": [
      "[[1.         0.89481537]\n",
      " [0.89481537 1.        ]]\n"
     ]
    },
    {
     "data": {
      "text/plain": [
       "<matplotlib.legend.Legend at 0x1b5faa4d888>"
      ]
     },
     "execution_count": 9,
     "metadata": {},
     "output_type": "execute_result"
    },
    {
     "data": {
      "image/png": "[encoded data removed]",
      "text/plain": [
       "<Figure size 432x288 with 1 Axes>"
      ]
     },
     "metadata": {
      "needs_background": "light"
     },
     "output_type": "display_data"
    }
   ],
   "source": [
    "# THIS IS FOR TRAINING DATA ---> IT IS SUPPOSED TO ALWAY DO WELL\n",
    "LEN = len(x_train)\n",
    "qwer = model.predict(x_train)\n",
    "plt.plot(qwer, y_train, 'ro',label='train')\n",
    "print(np.corrcoef(qwer.reshape((LEN, )), y_train))\n",
    "plt.legend()"
   ]
  },
  {
   "cell_type": "code",
   "execution_count": 10,
   "metadata": {},
   "outputs": [
    {
     "name": "stdout",
     "output_type": "stream",
     "text": [
      "[[1.         0.80654753]\n",
      " [0.80654753 1.        ]]\n"
     ]
    },
    {
     "data": {
      "text/plain": [
       "<matplotlib.legend.Legend at 0x1b5fcbe10c8>"
      ]
     },
     "execution_count": 10,
     "metadata": {},
     "output_type": "execute_result"
    },
    {
     "data": {
      "image/png": "[encoded data removed]",
      "text/plain": [
       "<Figure size 432x288 with 1 Axes>"
      ]
     },
     "metadata": {
      "needs_background": "light"
     },
     "output_type": "display_data"
    }
   ],
   "source": [
    "# THIS IS FOR TRAINING DATA ---> IT IS SUPPOSED TO ALWAY DO WELL\n",
    "LEN = len(x_test)\n",
    "qwer = model.predict(x_test)\n",
    "plt.plot(qwer, y_test, 'ro',label='train')\n",
    "print(np.corrcoef(qwer.reshape((LEN, )), y_test))\n",
    "plt.legend()"
   ]
  },
  {
   "cell_type": "markdown",
   "metadata": {},
   "source": [
    "# H. Saving model"
   ]
  },
  {
   "cell_type": "code",
   "execution_count": 12,
   "metadata": {},
   "outputs": [
    {
     "name": "stdout",
     "output_type": "stream",
     "text": [
      "Saved model to disk\n"
     ]
    }
   ],
   "source": [
    "model_json = model.to_json()\n",
    "with open(\"deep_learning_structure_model_01_21_22.json\", \"w\") as json_file:\n",
    "    json_file.write(model_json)\n",
    "\n",
    "model.save_weights(\"deep_learning_weights_model_01_21_22.h5\")\n",
    "print(\"Saved model to disk\")"
   ]
  },
  {
   "cell_type": "markdown",
   "metadata": {},
   "source": [
    "# I. Loading model"
   ]
  },
  {
   "cell_type": "code",
   "execution_count": 13,
   "metadata": {},
   "outputs": [
    {
     "name": "stdout",
     "output_type": "stream",
     "text": [
      "Loaded model from disk\n"
     ]
    }
   ],
   "source": [
    "from keras.models import model_from_json\n",
    "# loading json\n",
    "json_file = open('deep_learning_structure_model_01_21_22.json', 'r')\n",
    "loaded_model_json = json_file.read()\n",
    "json_file.close()\n",
    "loaded_model = model_from_json(loaded_model_json)\n",
    "# loading weights\n",
    "loaded_model.load_weights(\"deep_learning_weights_model_01_21_22.h5\")\n",
    "print(\"Loaded model from disk\")"
   ]
  },
  {
   "cell_type": "code",
   "execution_count": null,
   "metadata": {},
   "outputs": [],
   "source": []
  }
 ],
 "metadata": {
  "kernelspec": {
   "display_name": "Python 3",
   "language": "python",
   "name": "python3"
  },
  "language_info": {
   "codemirror_mode": {
    "name": "ipython",
    "version": 3
   },
   "file_extension": ".py",
   "mimetype": "text/x-python",
   "name": "python",
   "nbconvert_exporter": "python",
   "pygments_lexer": "ipython3",
   "version": "3.7.6"
  }
 },
 "nbformat": 4,
 "nbformat_minor": 4
}
