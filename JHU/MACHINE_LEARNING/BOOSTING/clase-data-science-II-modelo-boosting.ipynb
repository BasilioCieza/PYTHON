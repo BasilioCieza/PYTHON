{
 "cells": [
  {
   "cell_type": "markdown",
   "metadata": {},
   "source": [
    "# Importamos Librerias de Python"
   ]
  },
  {
   "cell_type": "code",
   "execution_count": 1,
   "metadata": {},
   "outputs": [],
   "source": [
    "import joblib\n",
    "import pandas as pd\n",
    "from sklearn.ensemble import RandomForestClassifier\n",
    "from sklearn.model_selection import GridSearchCV\n",
    "from sklearn.preprocessing import StandardScaler\n",
    "from sklearn.model_selection import train_test_split \n",
    "import warnings\n",
    "warnings.filterwarnings('ignore', category=FutureWarning)\n",
    "warnings.filterwarnings('ignore', category=DeprecationWarning)\n",
    "import matplotlib.pyplot as plt\n",
    "import numpy as np"
   ]
  },
  {
   "cell_type": "markdown",
   "metadata": {},
   "source": [
    "# Preparando data para el analisis"
   ]
  },
  {
   "cell_type": "markdown",
   "metadata": {},
   "source": [
    "#### Paso 1: Importamos la data"
   ]
  },
  {
   "cell_type": "code",
   "execution_count": 2,
   "metadata": {},
   "outputs": [
    {
     "data": {
      "text/html": [
       "<div>\n",
       "<style scoped>\n",
       "    .dataframe tbody tr th:only-of-type {\n",
       "        vertical-align: middle;\n",
       "    }\n",
       "\n",
       "    .dataframe tbody tr th {\n",
       "        vertical-align: top;\n",
       "    }\n",
       "\n",
       "    .dataframe thead th {\n",
       "        text-align: right;\n",
       "    }\n",
       "</style>\n",
       "<table border=\"1\" class=\"dataframe\">\n",
       "  <thead>\n",
       "    <tr style=\"text-align: right;\">\n",
       "      <th></th>\n",
       "      <th>s1</th>\n",
       "      <th>s2</th>\n",
       "      <th>s3</th>\n",
       "      <th>s4</th>\n",
       "      <th>s5</th>\n",
       "      <th>s6</th>\n",
       "      <th>s7</th>\n",
       "      <th>s8</th>\n",
       "      <th>s9</th>\n",
       "      <th>s10</th>\n",
       "      <th>...</th>\n",
       "      <th>s38</th>\n",
       "      <th>s39</th>\n",
       "      <th>s40</th>\n",
       "      <th>s41</th>\n",
       "      <th>s42</th>\n",
       "      <th>s43</th>\n",
       "      <th>s44</th>\n",
       "      <th>s45</th>\n",
       "      <th>s46</th>\n",
       "      <th>F</th>\n",
       "    </tr>\n",
       "  </thead>\n",
       "  <tbody>\n",
       "    <tr>\n",
       "      <th>0</th>\n",
       "      <td>-2.92</td>\n",
       "      <td>-7.15</td>\n",
       "      <td>-8.32</td>\n",
       "      <td>-7.48</td>\n",
       "      <td>-4.33</td>\n",
       "      <td>-6.17</td>\n",
       "      <td>-7.55</td>\n",
       "      <td>-5.78</td>\n",
       "      <td>-3.48</td>\n",
       "      <td>-7.33</td>\n",
       "      <td>...</td>\n",
       "      <td>-7.63</td>\n",
       "      <td>-8.88</td>\n",
       "      <td>-7.03</td>\n",
       "      <td>-3.62</td>\n",
       "      <td>-8.04</td>\n",
       "      <td>-6.17</td>\n",
       "      <td>-4.33</td>\n",
       "      <td>-7.48</td>\n",
       "      <td>-7.65</td>\n",
       "      <td>2.4044</td>\n",
       "    </tr>\n",
       "    <tr>\n",
       "      <th>1</th>\n",
       "      <td>-10.59</td>\n",
       "      <td>-3.52</td>\n",
       "      <td>-6.09</td>\n",
       "      <td>-2.47</td>\n",
       "      <td>-3.38</td>\n",
       "      <td>-7.68</td>\n",
       "      <td>-10.83</td>\n",
       "      <td>-10.44</td>\n",
       "      <td>-11.32</td>\n",
       "      <td>-9.98</td>\n",
       "      <td>...</td>\n",
       "      <td>-3.96</td>\n",
       "      <td>-8.11</td>\n",
       "      <td>-7.07</td>\n",
       "      <td>-10.22</td>\n",
       "      <td>-11.69</td>\n",
       "      <td>-9.26</td>\n",
       "      <td>-7.00</td>\n",
       "      <td>-3.97</td>\n",
       "      <td>-7.81</td>\n",
       "      <td>2.2380</td>\n",
       "    </tr>\n",
       "    <tr>\n",
       "      <th>2</th>\n",
       "      <td>-8.93</td>\n",
       "      <td>-8.06</td>\n",
       "      <td>-7.47</td>\n",
       "      <td>-4.91</td>\n",
       "      <td>-2.42</td>\n",
       "      <td>-2.37</td>\n",
       "      <td>-9.01</td>\n",
       "      <td>-9.43</td>\n",
       "      <td>-3.12</td>\n",
       "      <td>-2.52</td>\n",
       "      <td>...</td>\n",
       "      <td>-7.40</td>\n",
       "      <td>-8.52</td>\n",
       "      <td>-8.20</td>\n",
       "      <td>-7.03</td>\n",
       "      <td>-3.22</td>\n",
       "      <td>-7.83</td>\n",
       "      <td>-5.23</td>\n",
       "      <td>-10.74</td>\n",
       "      <td>-10.83</td>\n",
       "      <td>2.0745</td>\n",
       "    </tr>\n",
       "  </tbody>\n",
       "</table>\n",
       "<p>3 rows × 47 columns</p>\n",
       "</div>"
      ],
      "text/plain": [
       "      s1    s2    s3    s4    s5    s6     s7     s8     s9   s10  ...   s38  \\\n",
       "0  -2.92 -7.15 -8.32 -7.48 -4.33 -6.17  -7.55  -5.78  -3.48 -7.33  ... -7.63   \n",
       "1 -10.59 -3.52 -6.09 -2.47 -3.38 -7.68 -10.83 -10.44 -11.32 -9.98  ... -3.96   \n",
       "2  -8.93 -8.06 -7.47 -4.91 -2.42 -2.37  -9.01  -9.43  -3.12 -2.52  ... -7.40   \n",
       "\n",
       "    s39   s40    s41    s42   s43   s44    s45    s46       F  \n",
       "0 -8.88 -7.03  -3.62  -8.04 -6.17 -4.33  -7.48  -7.65  2.4044  \n",
       "1 -8.11 -7.07 -10.22 -11.69 -9.26 -7.00  -3.97  -7.81  2.2380  \n",
       "2 -8.52 -8.20  -7.03  -3.22 -7.83 -5.23 -10.74 -10.83  2.0745  \n",
       "\n",
       "[3 rows x 47 columns]"
      ]
     },
     "execution_count": 2,
     "metadata": {},
     "output_type": "execute_result"
    }
   ],
   "source": [
    "mydata = pd.read_csv(\"prot.csv\") # comando para subir la data\n",
    "mydata.head(3) # comando para visualizar la data"
   ]
  },
  {
   "cell_type": "markdown",
   "metadata": {},
   "source": [
    "#### Paso 2: Separamos variables dependientes (y) de independientes (x)"
   ]
  },
  {
   "cell_type": "code",
   "execution_count": 3,
   "metadata": {},
   "outputs": [
    {
     "data": {
      "text/html": [
       "<div>\n",
       "<style scoped>\n",
       "    .dataframe tbody tr th:only-of-type {\n",
       "        vertical-align: middle;\n",
       "    }\n",
       "\n",
       "    .dataframe tbody tr th {\n",
       "        vertical-align: top;\n",
       "    }\n",
       "\n",
       "    .dataframe thead th {\n",
       "        text-align: right;\n",
       "    }\n",
       "</style>\n",
       "<table border=\"1\" class=\"dataframe\">\n",
       "  <thead>\n",
       "    <tr style=\"text-align: right;\">\n",
       "      <th></th>\n",
       "      <th>s1</th>\n",
       "      <th>s2</th>\n",
       "      <th>s3</th>\n",
       "      <th>s4</th>\n",
       "      <th>s5</th>\n",
       "      <th>s6</th>\n",
       "      <th>s7</th>\n",
       "      <th>s8</th>\n",
       "      <th>s9</th>\n",
       "      <th>s10</th>\n",
       "      <th>...</th>\n",
       "      <th>s37</th>\n",
       "      <th>s38</th>\n",
       "      <th>s39</th>\n",
       "      <th>s40</th>\n",
       "      <th>s41</th>\n",
       "      <th>s42</th>\n",
       "      <th>s43</th>\n",
       "      <th>s44</th>\n",
       "      <th>s45</th>\n",
       "      <th>s46</th>\n",
       "    </tr>\n",
       "  </thead>\n",
       "  <tbody>\n",
       "    <tr>\n",
       "      <th>0</th>\n",
       "      <td>-2.92</td>\n",
       "      <td>-7.15</td>\n",
       "      <td>-8.32</td>\n",
       "      <td>-7.48</td>\n",
       "      <td>-4.33</td>\n",
       "      <td>-6.17</td>\n",
       "      <td>-7.55</td>\n",
       "      <td>-5.78</td>\n",
       "      <td>-3.48</td>\n",
       "      <td>-7.33</td>\n",
       "      <td>...</td>\n",
       "      <td>-7.08</td>\n",
       "      <td>-7.63</td>\n",
       "      <td>-8.88</td>\n",
       "      <td>-7.03</td>\n",
       "      <td>-3.62</td>\n",
       "      <td>-8.04</td>\n",
       "      <td>-6.17</td>\n",
       "      <td>-4.33</td>\n",
       "      <td>-7.48</td>\n",
       "      <td>-7.65</td>\n",
       "    </tr>\n",
       "    <tr>\n",
       "      <th>1</th>\n",
       "      <td>-10.59</td>\n",
       "      <td>-3.52</td>\n",
       "      <td>-6.09</td>\n",
       "      <td>-2.47</td>\n",
       "      <td>-3.38</td>\n",
       "      <td>-7.68</td>\n",
       "      <td>-10.83</td>\n",
       "      <td>-10.44</td>\n",
       "      <td>-11.32</td>\n",
       "      <td>-9.98</td>\n",
       "      <td>...</td>\n",
       "      <td>-7.10</td>\n",
       "      <td>-3.96</td>\n",
       "      <td>-8.11</td>\n",
       "      <td>-7.07</td>\n",
       "      <td>-10.22</td>\n",
       "      <td>-11.69</td>\n",
       "      <td>-9.26</td>\n",
       "      <td>-7.00</td>\n",
       "      <td>-3.97</td>\n",
       "      <td>-7.81</td>\n",
       "    </tr>\n",
       "    <tr>\n",
       "      <th>2</th>\n",
       "      <td>-8.93</td>\n",
       "      <td>-8.06</td>\n",
       "      <td>-7.47</td>\n",
       "      <td>-4.91</td>\n",
       "      <td>-2.42</td>\n",
       "      <td>-2.37</td>\n",
       "      <td>-9.01</td>\n",
       "      <td>-9.43</td>\n",
       "      <td>-3.12</td>\n",
       "      <td>-2.52</td>\n",
       "      <td>...</td>\n",
       "      <td>-8.60</td>\n",
       "      <td>-7.40</td>\n",
       "      <td>-8.52</td>\n",
       "      <td>-8.20</td>\n",
       "      <td>-7.03</td>\n",
       "      <td>-3.22</td>\n",
       "      <td>-7.83</td>\n",
       "      <td>-5.23</td>\n",
       "      <td>-10.74</td>\n",
       "      <td>-10.83</td>\n",
       "    </tr>\n",
       "  </tbody>\n",
       "</table>\n",
       "<p>3 rows × 46 columns</p>\n",
       "</div>"
      ],
      "text/plain": [
       "      s1    s2    s3    s4    s5    s6     s7     s8     s9   s10  ...   s37  \\\n",
       "0  -2.92 -7.15 -8.32 -7.48 -4.33 -6.17  -7.55  -5.78  -3.48 -7.33  ... -7.08   \n",
       "1 -10.59 -3.52 -6.09 -2.47 -3.38 -7.68 -10.83 -10.44 -11.32 -9.98  ... -7.10   \n",
       "2  -8.93 -8.06 -7.47 -4.91 -2.42 -2.37  -9.01  -9.43  -3.12 -2.52  ... -8.60   \n",
       "\n",
       "    s38   s39   s40    s41    s42   s43   s44    s45    s46  \n",
       "0 -7.63 -8.88 -7.03  -3.62  -8.04 -6.17 -4.33  -7.48  -7.65  \n",
       "1 -3.96 -8.11 -7.07 -10.22 -11.69 -9.26 -7.00  -3.97  -7.81  \n",
       "2 -7.40 -8.52 -8.20  -7.03  -3.22 -7.83 -5.23 -10.74 -10.83  \n",
       "\n",
       "[3 rows x 46 columns]"
      ]
     },
     "execution_count": 3,
     "metadata": {},
     "output_type": "execute_result"
    }
   ],
   "source": [
    "var_dep = mydata[\"F\"] # cogemos la columna de nombre insuranceclaim\n",
    "var_ind = mydata.drop([\"F\"],axis=1) # cogemos TODAS las columnas menos la que dice insuranceclaim (drop)\n",
    "#var_ind = mydata[[\"s1\",\"s2\",\"s3\",\"s4\",\"s5\",\"s6\",\"s7\",\"s8\",\"s9\",\"s10\",\"s11\",\"s12\",\"s13\",\"s14\",\"s15\",\"s16\",\"s17\",\"s18\",\"s19\",\"s20\",\"s21\"]]\n",
    "var_ind.head(3)"
   ]
  },
  {
   "cell_type": "markdown",
   "metadata": {},
   "source": [
    "#### Paso 3: Normalizamos la data  (warning)"
   ]
  },
  {
   "cell_type": "code",
   "execution_count": 4,
   "metadata": {},
   "outputs": [
    {
     "name": "stdout",
     "output_type": "stream",
     "text": [
      "ready\n"
     ]
    }
   ],
   "source": [
    "var_ind_norm = StandardScaler().fit_transform(var_ind) # reescala la data\n",
    "print(\"ready\")"
   ]
  },
  {
   "cell_type": "markdown",
   "metadata": {},
   "source": [
    "#### Paso 4: Dividimos la data en data de entrenamiento y data de testeo"
   ]
  },
  {
   "cell_type": "code",
   "execution_count": 5,
   "metadata": {},
   "outputs": [
    {
     "name": "stdout",
     "output_type": "stream",
     "text": [
      "ready\n"
     ]
    }
   ],
   "source": [
    "x_train, x_test, y_train, y_test = train_test_split(var_ind_norm, var_dep, test_size=0.25, random_state=0)\n",
    "print(\"ready\")"
   ]
  },
  {
   "cell_type": "markdown",
   "metadata": {},
   "source": [
    "# Boosting en 4 pasos"
   ]
  },
  {
   "cell_type": "markdown",
   "metadata": {},
   "source": [
    "#### Paso 1: Importamos el modelo que queremos usar."
   ]
  },
  {
   "cell_type": "code",
   "execution_count": 6,
   "metadata": {},
   "outputs": [],
   "source": [
    "from sklearn.ensemble import GradientBoostingClassifier, GradientBoostingRegressor"
   ]
  },
  {
   "cell_type": "markdown",
   "metadata": {},
   "source": [
    "#### Paso 2: Creamos una variable de clase Regresion Logistica"
   ]
  },
  {
   "cell_type": "code",
   "execution_count": 8,
   "metadata": {},
   "outputs": [],
   "source": [
    "gb=GradientBoostingRegressor(max_depth=5,n_estimators=300,learning_rate=0.1)"
   ]
  },
  {
   "cell_type": "markdown",
   "metadata": {},
   "source": [
    "#### Paso 3: Entrenamos el modelo basado en la data"
   ]
  },
  {
   "cell_type": "code",
   "execution_count": 9,
   "metadata": {},
   "outputs": [
    {
     "name": "stdout",
     "output_type": "stream",
     "text": [
      "ready\n"
     ]
    }
   ],
   "source": [
    "gb.fit(x_train, y_train) # entrena el modelo (data de entrenamie)\n",
    "print(\"ready\")"
   ]
  },
  {
   "cell_type": "markdown",
   "metadata": {},
   "source": [
    "#### Paso 4: Predecimos usando el modelo entrenado"
   ]
  },
  {
   "cell_type": "code",
   "execution_count": 10,
   "metadata": {},
   "outputs": [
    {
     "name": "stdout",
     "output_type": "stream",
     "text": [
      "ready\n"
     ]
    }
   ],
   "source": [
    "predictions = gb.predict(x_test)\n",
    "print(\"ready\") # revisa si termino el codigo (rstc)"
   ]
  },
  {
   "cell_type": "markdown",
   "metadata": {},
   "source": [
    "# Calculando la precision"
   ]
  },
  {
   "cell_type": "code",
   "execution_count": 11,
   "metadata": {},
   "outputs": [
    {
     "data": {
      "text/plain": [
       "0.2135681864741847"
      ]
     },
     "execution_count": 11,
     "metadata": {},
     "output_type": "execute_result"
    }
   ],
   "source": [
    "gb.score(x_test,y_test)"
   ]
  },
  {
   "cell_type": "markdown",
   "metadata": {},
   "source": [
    "## Importancia de los inputs!"
   ]
  },
  {
   "cell_type": "code",
   "execution_count": 12,
   "metadata": {},
   "outputs": [
    {
     "data": {
      "text/plain": [
       "array([0.01584956, 0.01489957, 0.02543797, 0.02026955, 0.0214087 ,\n",
       "       0.01389212, 0.0182545 , 0.02641671, 0.03090737, 0.02111231,\n",
       "       0.01758752, 0.01604964, 0.02330861, 0.02770364, 0.02311047,\n",
       "       0.01830377, 0.02103249, 0.02371541, 0.0433845 , 0.03156724,\n",
       "       0.01928579, 0.01969904, 0.0179927 , 0.0306819 , 0.02564782,\n",
       "       0.01828052, 0.02347708, 0.01763536, 0.0307961 , 0.03094178,\n",
       "       0.01971308, 0.02107152, 0.01836163, 0.01918254, 0.03379682,\n",
       "       0.01818342, 0.01827305, 0.01434857, 0.01855145, 0.02489113,\n",
       "       0.01783893, 0.01334264, 0.0141693 , 0.01783965, 0.02374155,\n",
       "       0.01804497])"
      ]
     },
     "execution_count": 12,
     "metadata": {},
     "output_type": "execute_result"
    }
   ],
   "source": [
    "gb.feature_importances_"
   ]
  },
  {
   "cell_type": "code",
   "execution_count": 13,
   "metadata": {},
   "outputs": [
    {
     "data": {
      "text/plain": [
       "[<matplotlib.lines.Line2D at 0x2387beed488>]"
      ]
     },
     "execution_count": 13,
     "metadata": {},
     "output_type": "execute_result"
    },
    {
     "data": {
      "image/png": "[encoded data removed]",
      "text/plain": [
       "<Figure size 432x288 with 1 Axes>"
      ]
     },
     "metadata": {
      "needs_background": "light"
     },
     "output_type": "display_data"
    }
   ],
   "source": [
    "plt.plot(predictions,y_test,'o')"
   ]
  }
 ],
 "metadata": {
  "kernelspec": {
   "display_name": "Python 3",
   "language": "python",
   "name": "python3"
  },
  "language_info": {
   "codemirror_mode": {
    "name": "ipython",
    "version": 3
   },
   "file_extension": ".py",
   "mimetype": "text/x-python",
   "name": "python",
   "nbconvert_exporter": "python",
   "pygments_lexer": "ipython3",
   "version": "3.7.6"
  }
 },
 "nbformat": 4,
 "nbformat_minor": 2
}
