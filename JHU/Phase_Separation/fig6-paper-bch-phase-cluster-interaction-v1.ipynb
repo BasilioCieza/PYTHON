{
 "cells": [
  {
   "cell_type": "code",
   "execution_count": 81,
   "metadata": {},
   "outputs": [
    {
     "data": {
      "application/javascript": [
       "IPython.OutputArea.prototype._should_scroll = function(lines) {\n",
       "    return false;\n",
       "}\n"
      ],
      "text/plain": [
       "<IPython.core.display.Javascript object>"
      ]
     },
     "metadata": {},
     "output_type": "display_data"
    }
   ],
   "source": [
    "%%javascript\n",
    "IPython.OutputArea.prototype._should_scroll = function(lines) {\n",
    "    return false;\n",
    "}"
   ]
  },
  {
   "cell_type": "code",
   "execution_count": 82,
   "metadata": {},
   "outputs": [],
   "source": [
    "#%matplotlib inline\n",
    "from __future__ import division\n",
    "import matplotlib\n",
    "import numpy as np\n",
    "from pylab import *\n",
    "from mpl_toolkits.mplot3d import Axes3D\n",
    "import h5py\n",
    "import os\n",
    "import re\n",
    "import matplotlib.pyplot as plt\n",
    "from mpl_toolkits.axes_grid1 import make_axes_locatable\n",
    "matplotlib.rcParams.update({\"axes.formatter.limits\": (-4,4)})\n",
    "plotStyles={\"markersize\":20,\"markeredgewidth\":3.0,\"linewidth\":3.0}\n",
    "stepStyles={\"markersize\":20,\"markeredgewidth\":3.0,\"linewidth\":3.0,\"where\":\"post\"}\n",
    "np.seterr(divide='ignore',invalid='ignore')\n",
    "from matplotlib import pyplot\n",
    "from matplotlib.colors import LogNorm\n",
    "pass"
   ]
  },
  {
   "cell_type": "code",
   "execution_count": 83,
   "metadata": {},
   "outputs": [],
   "source": [
    "from scipy.cluster.hierarchy import ward, fcluster\n",
    "from scipy.spatial.distance import pdist\n",
    "from scipy.cluster.hierarchy import dendrogram, linkage  \n",
    "from matplotlib import pyplot as plt\n",
    "import numpy as np\n",
    "import matplotlib.pyplot as plt\n",
    "import matplotlib.gridspec as gridspec"
   ]
  },
  {
   "cell_type": "code",
   "execution_count": 84,
   "metadata": {},
   "outputs": [],
   "source": [
    "# Directory work"
   ]
  },
  {
   "cell_type": "code",
   "execution_count": 85,
   "metadata": {},
   "outputs": [
    {
     "name": "stdout",
     "output_type": "stream",
     "text": [
      "/home/bciezah1/Documents/scripts\n"
     ]
    }
   ],
   "source": [
    "%%bash\n",
    "pwd"
   ]
  },
  {
   "cell_type": "code",
   "execution_count": 86,
   "metadata": {},
   "outputs": [],
   "source": [
    "# Functions"
   ]
  },
  {
   "cell_type": "code",
   "execution_count": 87,
   "metadata": {},
   "outputs": [],
   "source": [
    "# Setup plot styles for saving figures.\n",
    "def figure_style():\n",
    "    global plotStyles,stepStyles,plotColors,plotSymbols\n",
    "    matplotlib.rcParams.update({\"axes.formatter.limits\": (-8,8), \"svg.fonttype\" : \"none\", 'pdf.fonttype':42,'font.family':'sans-serif','font.sans-serif':'Helvetica','font.size': 9, \"axes.titlesize\": 10, \"xtick.labelsize\": 8, \"ytick.labelsize\": 8,'text.usetex':False,'text.latex.preamble':[r'\\usepackage{sansmath}',r'\\sansmath']})\n",
    "    plotStyles={\"markersize\":4,\"markeredgewidth\":1.0,\"linewidth\":1.0,\"markerfacecolor\":None}\n",
    "    stepStyles={\"markersize\":20,\"markeredgewidth\":3.0,\"linewidth\":3.0,\"where\":\"post\"}\n",
    "    plotColors=plt.rcParams['axes.prop_cycle'].by_key()['color']\n",
    "    plotSymbols=['x','o','^']"
   ]
  },
  {
   "cell_type": "code",
   "execution_count": 88,
   "metadata": {},
   "outputs": [],
   "source": [
    "# Setup plot styles for on-screen plotting.\n",
    "def screen_style(fontSize=20):\n",
    "    global plotStyles,stepStyles,plotColors,plotSymbols\n",
    "    matplotlib.rcParams.update({\"axes.formatter.limits\": (-4,4), \"svg.fonttype\" : \"none\", 'pdf.fonttype':42,'font.family':'sans-serif','font.sans-serif':'Helvetica','font.size': fontSize, \"axes.titlesize\": fontSize, \"xtick.labelsize\": fontSize, \"ytick.labelsize\": fontSize,'text.usetex':False,'text.latex.preamble':[r'\\usepackage{sansmath}',r'\\sansmath']})\n",
    "    plotStyles={\"markersize\":12,\"markeredgewidth\":3.0,\"linewidth\":3.0}\n",
    "    stepStyles={\"markersize\":20,\"markeredgewidth\":3.0,\"linewidth\":3.0,\"where\":\"post\"}\n",
    "    plotColors=plt.rcParams['axes.prop_cycle'].by_key()['color']\n",
    "    plotSymbols=['x','o','^']"
   ]
  },
  {
   "cell_type": "code",
   "execution_count": 89,
   "metadata": {},
   "outputs": [],
   "source": [
    "# Setup plot styles for saving figures.\n",
    "def movie_style(multiplier):\n",
    "    global plotStyles,stepStyles,plotColors,plotSymbols\n",
    "    matplotlib.rcParams.update({\"axes.formatter.limits\": (-4,4), \"svg.fonttype\" : \"none\", 'pdf.fonttype':42,'font.family':'sans-serif','font.sans-serif':'Helvetica','font.size': multiplier*6, \"axes.titlesize\": multiplier*7, \"xtick.labelsize\": multiplier*5, \"ytick.labelsize\": multiplier*5,'text.usetex':False,'text.latex.preamble':[r'\\usepackage{sansmath}',r'\\sansmath']})\n",
    "    plotStyles={\"markersize\":4,\"markeredgewidth\":1.0,\"linewidth\":1.0}\n",
    "    stepStyles={\"markersize\":20,\"markeredgewidth\":3.0,\"linewidth\":3.0,\"where\":\"post\"}\n",
    "    plotColors=plt.rcParams['axes.prop_cycle'].by_key()['color']\n",
    "    plotSymbols=['x','o','^'] "
   ]
  },
  {
   "cell_type": "code",
   "execution_count": 90,
   "metadata": {},
   "outputs": [],
   "source": [
    "# define some project specific functions"
   ]
  },
  {
   "cell_type": "code",
   "execution_count": 91,
   "metadata": {},
   "outputs": [],
   "source": [
    "import scipy.optimize as opt\n",
    "import scipy.integrate as integrate\n",
    "screen_style()\n",
    "pass"
   ]
  },
  {
   "cell_type": "code",
   "execution_count": 92,
   "metadata": {},
   "outputs": [],
   "source": [
    "from matplotlib.backends.backend_pdf import PdfPages\n",
    "figuredir = \"figures\"\n",
    "if not os.path.exists(figuredir): os.mkdir(figuredir)"
   ]
  },
  {
   "cell_type": "markdown",
   "metadata": {},
   "source": [
    "# Cluster Interaction"
   ]
  },
  {
   "cell_type": "markdown",
   "metadata": {},
   "source": [
    "## With Nucleation"
   ]
  },
  {
   "cell_type": "markdown",
   "metadata": {},
   "source": [
    "### first option"
   ]
  },
  {
   "cell_type": "code",
   "execution_count": 13,
   "metadata": {},
   "outputs": [],
   "source": [
    "dir3=\"/media/Data/MARCC/Cluster_Interaction/30x30_4lat_50_nuc_200traj/\""
   ]
  },
  {
   "cell_type": "code",
   "execution_count": 14,
   "metadata": {},
   "outputs": [
    {
     "name": "stdout",
     "output_type": "stream",
     "text": [
      "times 201\n",
      "replicate 200\n",
      "ready\n"
     ]
    }
   ],
   "source": [
    "# File names #\n",
    "filename0 =dir3+\"mynew1.lm\"\n",
    "filename1 =dir3+\"mynew2.lm\"\n",
    "filename2 =dir3+\"mynew3.lm\"\n",
    "# Reading files #\n",
    "fp0 = h5py.File(filename0, \"r\")\n",
    "fp1 = h5py.File(filename1, \"r\")\n",
    "fp2 = h5py.File(filename2, \"r\")\n",
    "# replicates #\n",
    "replicate=len(fp1[\"/Simulations\"].keys()) #Number of replicates\n",
    "times = len(np.array(fp0[\"/Simulations/%07d/SpeciesCountTimes\"%replicate], dtype=double))\n",
    "print(\"times\",times)\n",
    "print(\"replicate\",replicate)\n",
    "print(\"ready\")"
   ]
  },
  {
   "cell_type": "code",
   "execution_count": 15,
   "metadata": {},
   "outputs": [
    {
     "name": "stdout",
     "output_type": "stream",
     "text": [
      "ready\n"
     ]
    }
   ],
   "source": [
    " #Average Equilibrium#\n",
    "CountEqui=np.zeros((times+1,replicate,3), dtype=int) \n",
    "lattices=fp0[\"/Simulations/%07d/Lattice\"%replicate].keys()\n",
    "#CountStep=-1\n",
    "for replicate in range(1,replicate+1): \n",
    "    CountStep=-1\n",
    "    for lattice in lattices:\n",
    "        CountStep=CountStep+1\n",
    "        #print(lattice)\n",
    "        lfull = np.array(fp0[\"/Simulations/%07d/Lattice/%s\"%(replicate,lattice)], dtype=np.uint8)\n",
    "        CountEqui[CountStep][replicate-1][0]=float(np.sum(lfull[2:13][:,9:20]==1))\n",
    "        CountEqui[CountStep][replicate-1][1]=float(np.sum(lfull[17:28][:,2:13]==1))\n",
    "        CountEqui[CountStep][replicate-1][2]=float(np.sum(lfull[13:24][:,16:27]==1))\n",
    "AverageCountEqui=np.mean(CountEqui,axis=1)\n",
    "VarianceCountEqui=np.std(CountEqui,axis=1)/sqrt(200)\n",
    "print(\"ready\")"
   ]
  },
  {
   "cell_type": "code",
   "execution_count": 16,
   "metadata": {},
   "outputs": [
    {
     "name": "stdout",
     "output_type": "stream",
     "text": [
      "ready\n"
     ]
    }
   ],
   "source": [
    "#Average Production#\n",
    "CountProd=np.zeros((times,replicate,3), dtype=int) \n",
    "lattices=fp1[\"/Simulations/%07d/Lattice\"%replicate].keys()\n",
    "#CountStep=-1\n",
    "for replicate in range(1,replicate+1): \n",
    "    CountStep=-1\n",
    "    for lattice in lattices:\n",
    "        CountStep=CountStep+1\n",
    "        #print(lattice)\n",
    "        lfull = np.array(fp1[\"/Simulations/%07d/Lattice/%s\"%(replicate,lattice)], dtype=np.uint8)\n",
    "        CountProd[CountStep][replicate-1][0]=float(np.sum(lfull[2:13][:,9:20]==1))\n",
    "        CountProd[CountStep][replicate-1][1]=float(np.sum(lfull[17:28][:,2:13]==1))\n",
    "        CountProd[CountStep][replicate-1][2]=float(np.sum(lfull[13:24][:,16:27]==1))\n",
    "AverageCountProd1=np.mean(CountProd,axis=1)\n",
    "VarianceCountProd1=np.std(CountProd,axis=1)/sqrt(200)\n",
    "print(\"ready\")"
   ]
  },
  {
   "cell_type": "code",
   "execution_count": 17,
   "metadata": {},
   "outputs": [
    {
     "name": "stdout",
     "output_type": "stream",
     "text": [
      "ready\n"
     ]
    }
   ],
   "source": [
    "#Third Nucleation#\n",
    "CountProd=np.zeros((times,replicate,3), dtype=int) \n",
    "lattices=fp2[\"/Simulations/%07d/Lattice\"%replicate].keys()\n",
    "#CountStep=-1\n",
    "for replicate in range(1,replicate+1): \n",
    "    CountStep=-1\n",
    "    for lattice in lattices:\n",
    "        CountStep=CountStep+1\n",
    "        #print(lattice)\n",
    "        lfull = np.array(fp2[\"/Simulations/%07d/Lattice/%s\"%(replicate,lattice)], dtype=np.uint8)\n",
    "        CountProd[CountStep][replicate-1][0]=float(np.sum(lfull[2:13][:,9:20]==1))\n",
    "        CountProd[CountStep][replicate-1][1]=float(np.sum(lfull[17:28][:,2:13]==1))\n",
    "        CountProd[CountStep][replicate-1][2]=float(np.sum(lfull[13:24][:,16:27]==1))\n",
    "AverageCountProd2=np.mean(CountProd,axis=1)\n",
    "VarianceCountProd2=np.std(CountProd,axis=1)/sqrt(200)\n",
    "print(\"ready\")"
   ]
  },
  {
   "cell_type": "code",
   "execution_count": 44,
   "metadata": {},
   "outputs": [
    {
     "data": {
      "image/png": "[encoded data removed]",
      "text/plain": [
       "<Figure size 432x288 with 1 Axes>"
      ]
     },
     "metadata": {
      "needs_background": "light"
     },
     "output_type": "display_data"
    }
   ],
   "source": [
    "counting=np.concatenate((AverageCountEqui[0:200], AverageCountProd1[0:200],AverageCountProd2[0:200]), axis=0)\n",
    "myerror=np.concatenate((VarianceCountEqui[0:200], VarianceCountProd1[0:200],VarianceCountProd2[0:200]), axis=0)\n",
    "[nrow,ncol]=counting.shape\n",
    "Xaxis = np.arange(1, nrow+1, 1)\n",
    "errorbar(Xaxis,counting[:,0],myerror[:,0],label=\"1st Nucleation\" , color='blue')\n",
    "errorbar(Xaxis,counting[:,1],myerror[:,1],label=\"2nd Nucleation\" , color='red')\n",
    "errorbar(Xaxis,counting[:,2],myerror[:,2],label=\"3rd Nucleation\" , color='green')\n",
    "ylabel('Number of $\\mathregular{x_{2}}$')\n",
    "legend(loc=\"upper right\", ncol=1, fontsize=10)\n",
    "xlabel(\"Time(s)\")\n",
    "tight_layout()"
   ]
  },
  {
   "cell_type": "code",
   "execution_count": 45,
   "metadata": {},
   "outputs": [
    {
     "data": {
      "image/png": "[encoded data removed]",
      "text/plain": [
       "<Figure size 432x288 with 1 Axes>"
      ]
     },
     "metadata": {
      "needs_background": "light"
     },
     "output_type": "display_data"
    }
   ],
   "source": [
    "counting=np.concatenate((AverageCountEqui[0:200], AverageCountProd1[0:200],AverageCountProd2[0:200]), axis=0)\n",
    "myerror=np.concatenate((VarianceCountEqui[0:200], VarianceCountProd1[0:200],VarianceCountProd2[0:200]), axis=0)\n",
    "[nrow,ncol]=counting.shape\n",
    "Xaxis = np.arange(1, nrow, 1)\n",
    "for i in range(1,2):\n",
    "    step(Xaxis[20:nrow-1],counting[:,0][20:nrow-1],label=\"1st Nucleation\" , color='blue',**stepStyles)\n",
    "    step(Xaxis[20:nrow-1],counting[:,1][20:nrow-1],label=\"2nd Nucleation\" , color='red',**stepStyles)\n",
    "    step(Xaxis[20:nrow-1],counting[:,2][20:nrow-1],label=\"3rd Nucleation\" , color='green',**stepStyles)\n",
    "pass\n",
    "ylabel('Number of $\\mathregular{x_{2}}$')\n",
    "legend(loc=\"upper right\", ncol=1, fontsize=10)\n",
    "xlabel(\"Time(s)\")\n",
    "tight_layout()"
   ]
  },
  {
   "cell_type": "markdown",
   "metadata": {},
   "source": [
    "# Spatial Resolution - Nucleation"
   ]
  },
  {
   "cell_type": "code",
   "execution_count": 46,
   "metadata": {},
   "outputs": [],
   "source": [
    "dir3=\"/media/Data/MARCC/Cluster_Interaction/30x30_4lat_50_nuc_200traj/\"\n",
    "N2=[1]"
   ]
  },
  {
   "cell_type": "code",
   "execution_count": 47,
   "metadata": {},
   "outputs": [
    {
     "name": "stdout",
     "output_type": "stream",
     "text": [
      "/media/Data/MARCC/Cluster_Interaction/30x30_4lat_50_nuc_200traj/mynew3.lm\n",
      "ready\n"
     ]
    },
    {
     "data": {
      "image/png": "[encoded data removed]",
      "text/plain": [
       "<Figure size 576x1728 with 4 Axes>"
      ]
     },
     "metadata": {
      "needs_background": "light"
     },
     "output_type": "display_data"
    }
   ],
   "source": [
    "for x1 in N2:\n",
    "    filename1 =dir3+\"mynew3.lm\"\n",
    "    print(filename1)\n",
    "    fp1 = h5py.File(filename1, \"r\")\n",
    "    replicate=1\n",
    "    lattices=fp1[\"/Simulations/%07d/Lattice\"%replicate].keys()\n",
    "    startTimestep=0\n",
    "    #endTimestep=len(times1)\n",
    "    count=0\n",
    "    fig = plt.figure(figsize=(8,24))\n",
    "    for lattice in lattices:\n",
    "        if  199<int(lattice)<201: #Take lattices each jump steps\n",
    "            for replicate in range(1,2):\n",
    "                ax5=plt.subplot(1, 2, 1)\n",
    "                lfull = np.array(fp1[\"/Simulations/%07d/Lattice/%s\"%(replicate,lattice)], dtype=np.uint8)\n",
    "                SumParticlesX2=np.sum(lfull[12:25][:,15:29]==2,axis=3) #Count Particles of Type X1\n",
    "                TrasnPotSumPartX2=SumParticlesX2.transpose(2,0,1) # \"Reshape matrix from 100x100x10 to 10x100x100\"\n",
    "                m=ax5.imshow(TrasnPotSumPartX2[0],interpolation='nearest',vmin=0, vmax=3,cmap=cm.bone);\n",
    "                plt.ylabel('y($\\mu$m)',fontsize=20);plt.xlabel('x($\\mu$m)',fontsize=20)\n",
    "                divider = make_axes_locatable(ax5)\n",
    "                cax = divider.append_axes(\"right\", size=\"5%\", pad=0.05)\n",
    "                v=linspace(0,5,6,endpoint=True)\n",
    "                plt.colorbar(m,ticks=v, cax=cax)\n",
    "                plt.ylabel('Number of $\\mathregular{x_{2}}$',fontsize=20)\n",
    "                ax6=plt.subplot(1, 2, 2)\n",
    "                lfull = np.array(fp1[\"/Simulations/%07d/Lattice/%s\"%(replicate,lattice)], dtype=np.uint8)\n",
    "                SumParticlesX2=np.sum(lfull==2,axis=3) #Count Particles of Type X1\n",
    "                TrasnPotSumPartX2=SumParticlesX2.transpose(2,0,1) # \"Reshape matrix from 100x100x10 to 10x100x100\"\n",
    "                m=ax6.imshow(TrasnPotSumPartX2[0],interpolation='nearest',vmin=0, vmax=3,cmap=cm.bone);\n",
    "                plt.ylabel('y($\\mu$m)',fontsize=20);plt.xlabel('x($\\mu$m)',fontsize=20)\n",
    "                divider = make_axes_locatable(ax6)\n",
    "                cax = divider.append_axes(\"right\", size=\"5%\", pad=0.05)\n",
    "                v=linspace(0,5,6,endpoint=True)\n",
    "                plt.colorbar(m,ticks=v, cax=cax)\n",
    "                plt.ylabel('Number of $\\mathregular{x_{2}}$',fontsize=20)\n",
    "                tight_layout()\n",
    "            plt.savefig('img%s.png'%(int(int(lattice)/1)))\n",
    "print(\"ready\")"
   ]
  },
  {
   "cell_type": "markdown",
   "metadata": {},
   "source": [
    "### first option"
   ]
  },
  {
   "cell_type": "code",
   "execution_count": 248,
   "metadata": {},
   "outputs": [
    {
     "ename": "SyntaxError",
     "evalue": "invalid syntax (<ipython-input-248-c6cc5db995cd>, line 120)",
     "output_type": "error",
     "traceback": [
      "\u001b[0;36m  File \u001b[0;32m\"<ipython-input-248-c6cc5db995cd>\"\u001b[0;36m, line \u001b[0;32m120\u001b[0m\n\u001b[0;31m    plt.savefig('Cluster_Interaction_f6_v1.png,bbox_inches='tight')\u001b[0m\n\u001b[0m                                                                ^\u001b[0m\n\u001b[0;31mSyntaxError\u001b[0m\u001b[0;31m:\u001b[0m invalid syntax\n"
     ]
    }
   ],
   "source": [
    "fig = plt.figure(figsize=(8,24))\n",
    "gs = gridspec.GridSpec(nrows=6,ncols=2,figure=fig, width_ratios= [1.5,1.5],\\\n",
    "                       height_ratios=[1,1,1,1.5,1.5,1.5], wspace=0.6,hspace=0.8)\n",
    "#########################\n",
    "ax2 = fig.add_subplot(gs[3:4, 0:2]) #b\n",
    "\n",
    "counting=np.concatenate((AverageCountProd1[0:2000],AverageCountProd2[0:2000],AverageCountProd3[0:2000]), axis=0)\n",
    "#myerror=np.concatenate((VarianceCountEqui[0:200], VarianceCountProd1[0:200],VarianceCountProd2[0:200]), axis=0)\n",
    "[nrow,ncol]=counting.shape\n",
    "Xaxis = np.arange(2000, nrow+2000, 1)\n",
    "for i in range(1,2):\n",
    "    step(Xaxis[0:5999],counting[:,0][0:5999],label=\"1st Nucleation\" , color='blue',**stepStyles)\n",
    "    step(Xaxis[2000:5999],counting[:,1][2000:5999],label=\"2nd Nucleation\" , color='red',**stepStyles)\n",
    "    step(Xaxis[4000:5999],counting[:,2][4000:5999],label=\"3rd Nucleation\" , color='green',**stepStyles)\n",
    "pass\n",
    "ylim([0,1000])\n",
    "xlim([0,8000])\n",
    "ylabel('Number of $\\mathregular{x_{2}}$')\n",
    "legend(loc=\"upper right\", ncol=1, fontsize=10)\n",
    "xlabel(\"Time(s)\")\n",
    "plt.grid(True)\n",
    "tight_layout()\n",
    "#tight_layout()\n",
    "#sns.reset_orig()\n",
    "\n",
    "ax3 = fig.add_subplot(gs[4:5, 0:1]) #b\n",
    "\n",
    "dir1='/media/Data/MARCC/Cluster_Interaction/phase_space/k1_1.000e-10_and_k3_3.594e-09/nuc1/'\n",
    "filename1 =dir1+\"87.lm\"\n",
    "fp1 = h5py.File(filename1, \"r\")\n",
    "################\n",
    "replicate=1 #162#135#92#66 #65 56 36 #27\n",
    "################\n",
    "lattice=list(fp1[\"/Simulations/%07d/Lattice\"%replicate].keys())[2000]\n",
    "lfull = np.array(fp1[\"/Simulations/%07d/Lattice/%s\"%(replicate,lattice)], dtype=np.uint8)\n",
    "SumParticlesX2=np.sum(lfull==1,axis=3) #Count Particles of Type X1\n",
    "TrasnPotSumPartX2=SumParticlesX2.transpose(2,0,1) # \"Reshape matrix from 100x100x10 to 10x100x100\"\n",
    "title('Time=4000s', fontsize=20)\n",
    "m=ax3.imshow(TrasnPotSumPartX2[0],interpolation='nearest',vmin=0, vmax=5,cmap=cm.bone);\n",
    "plt.ylabel('y($\\mu$m)',fontsize=20);plt.xlabel('x($\\mu$m)',fontsize=20)\n",
    "divider = make_axes_locatable(ax3)\n",
    "cax = divider.append_axes(\"right\", size=\"5%\", pad=0.05)\n",
    "v=linspace(0,5,6,endpoint=True)\n",
    "plt.colorbar(m,ticks=v, cax=cax)\n",
    "plt.ylabel('Number of $\\mathregular{x_{2}}$',fontsize=20)\n",
    "#tight_layout()\n",
    "\n",
    "ax4 = fig.add_subplot(gs[4:5, 1:2]) #b\n",
    "\n",
    "dir2='/media/Data/MARCC/Cluster_Interaction/phase_space/k1_1.000e-10_and_k3_3.594e-09/nuc2/'\n",
    "filename1 =dir2+\"287.lm\"\n",
    "fp1 = h5py.File(filename1, \"r\")\n",
    "lattice=list(fp1[\"/Simulations/%07d/Lattice\"%replicate].keys())[1]\n",
    "lfull = np.array(fp1[\"/Simulations/%07d/Lattice/%s\"%(replicate,lattice)], dtype=np.uint8)\n",
    "SumParticlesX2=np.sum(lfull==1,axis=3) #Count Particles of Type X1\n",
    "TrasnPotSumPartX2=SumParticlesX2.transpose(2,0,1) # \"Reshape matrix from 100x100x10 to 10x100x100\"\n",
    "title('Time=4001s', fontsize=20)\n",
    "m=ax4.imshow(TrasnPotSumPartX2[0],interpolation='nearest',vmin=0, vmax=5,cmap=cm.bone);\n",
    "plt.ylabel('y($\\mu$m)',fontsize=20);plt.xlabel('x($\\mu$m)',fontsize=20)\n",
    "divider = make_axes_locatable(ax4)\n",
    "cax = divider.append_axes(\"right\", size=\"5%\", pad=0.05)\n",
    "v=linspace(0,5,6,endpoint=True)\n",
    "plt.colorbar(m,ticks=v, cax=cax)\n",
    "plt.ylabel('Number of $\\mathregular{x_{2}}$',fontsize=20)\n",
    "#tight_layout()\n",
    "\n",
    "ax5 = fig.add_subplot(gs[5:6, 0:1]) #b\n",
    "\n",
    "dir3='/media/Data/MARCC/Cluster_Interaction/phase_space/k1_1.000e-10_and_k3_3.594e-09/nuc3/'\n",
    "filename1 =dir3+\"30.lm\"\n",
    "fp1 = h5py.File(filename1, \"r\")\n",
    "lattice=list(fp1[\"/Simulations/%07d/Lattice\"%replicate].keys())[1]\n",
    "lfull = np.array(fp1[\"/Simulations/%07d/Lattice/%s\"%(replicate,lattice)], dtype=np.uint8)\n",
    "SumParticlesX2=np.sum(lfull==1,axis=3) #Count Particles of Type X1\n",
    "TrasnPotSumPartX2=SumParticlesX2.transpose(2,0,1) # \"Reshape matrix from 100x100x10 to 10x100x100\"\n",
    "title('Time=6001s', fontsize=20)\n",
    "m=ax5.imshow(TrasnPotSumPartX2[0],interpolation='nearest',vmin=0, vmax=5,cmap=cm.bone);\n",
    "plt.ylabel('y($\\mu$m)',fontsize=20);plt.xlabel('x($\\mu$m)',fontsize=20)\n",
    "divider = make_axes_locatable(ax5)\n",
    "cax = divider.append_axes(\"right\", size=\"5%\", pad=0.05)\n",
    "v=linspace(0,5,6,endpoint=True)\n",
    "plt.colorbar(m,ticks=v, cax=cax)\n",
    "plt.ylabel('Number of $\\mathregular{x_{2}}$',fontsize=20)\n",
    "#tight_layout()\n",
    "\n",
    "ax6 = fig.add_subplot(gs[5:6, 1:2]) #b\n",
    "\n",
    "dir3='/media/Data/MARCC/Cluster_Interaction/phase_space/k1_1.000e-10_and_k3_3.594e-09/nuc3/'\n",
    "filename1 =dir3+\"14.lm\"\n",
    "fp1 = h5py.File(filename1, \"r\")\n",
    "lattice=list(fp1[\"/Simulations/%07d/Lattice\"%replicate].keys())[-1]\n",
    "lfull = np.array(fp1[\"/Simulations/%07d/Lattice/%s\"%(replicate,lattice)], dtype=np.uint8)\n",
    "SumParticlesX2=np.sum(lfull==1,axis=3) #Count Particles of Type X1\n",
    "TrasnPotSumPartX2=SumParticlesX2.transpose(2,0,1) # \"Reshape matrix from 100x100x10 to 10x100x100\"\n",
    "title('Time=8000s', fontsize=20)\n",
    "m=ax6.imshow(TrasnPotSumPartX2[0],interpolation='nearest',vmin=0, vmax=5,cmap=cm.bone);\n",
    "plt.ylabel('y($\\mu$m)',fontsize=20);plt.xlabel('x($\\mu$m)',fontsize=20)\n",
    "divider = make_axes_locatable(ax6)\n",
    "cax = divider.append_axes(\"right\", size=\"5%\", pad=0.05)\n",
    "v=linspace(0,5,6,endpoint=True)\n",
    "plt.colorbar(m,ticks=v, cax=cax)\n",
    "plt.ylabel('Number of $\\mathregular{x_{2}}$',fontsize=20)\n",
    "#tight_layout()\n",
    "\n",
    "#figtext(0.055,0.900,\"a\", {'ha':'left','va':'top','fontsize':20, 'fontweight':'bold'})\n",
    "#figtext(0.055,0.690,\"b\", {'ha':'left','va':'top','fontsize':20, 'fontweight':'bold'})\n",
    "figtext(0.055,0.550,\"a\", {'ha':'left','va':'top','fontsize':20, 'fontweight':'bold'})\n",
    "figtext(0.055,0.390,\"b\", {'ha':'left','va':'top','fontsize':20, 'fontweight':'bold'})\n",
    "figtext(0.530,0.390,\"c\", {'ha':'left','va':'top','fontsize':20, 'fontweight':'bold'})\n",
    "figtext(0.055,0.245,\"d\", {'ha':'left','va':'top','fontsize':20, 'fontweight':'bold'})\n",
    "figtext(0.530,0.245,\"e\", {'ha':'left','va':'top','fontsize':20, 'fontweight':'bold'})\n",
    "ax4.plot(24,64,'o',ms=12,mec='b',mfc='none',mew=2)\n",
    "ax5.plot(65,64,'o',ms=12,mec='b',mfc='none',mew=2)\n",
    "#ax4.annotate(' ',color='red',xy=(23,64),xytext=(18,64),fontsize=5,arrowprops=dict(width=5,headwidth=8,shrink=0.5,linewidth=1,facecolor='red'))\n",
    "#ax5.annotate('',color='red',xy=(65,64),xytext=(70,64),fontsize=5,arrowprops=dict(width=5,headwidth=8,shrink=0.5,linewidth=1,facecolor='red'))\n",
    "\n",
    "ax2.annotate('b,c',color='black',xy=(4000,550),xytext=(4100,720),fontsize=10,arrowprops=dict(width=1,headwidth=10,shrink=1,linewidth=1,color='black'))\n",
    "ax2.annotate('d',color='black',xy=(6000,430),xytext=(6100,600),fontsize=10,arrowprops=dict(width=1,headwidth=10,shrink=0.05,linewidth=1,color='black'))\n",
    "ax2.annotate('e',color='black',xy=(7750,350),xytext=(7850,520),fontsize=10,arrowprops=dict(width=1,headwidth=10,shrink=0.05,linewidth=1,color='black'))\n",
    "plt.savefig('Cluster_Interaction_f6_v1.png,bbox_inches='tight')"
   ]
  },
  {
   "cell_type": "markdown",
   "metadata": {},
   "source": [
    "### second option"
   ]
  },
  {
   "cell_type": "code",
   "execution_count": null,
   "metadata": {},
   "outputs": [],
   "source": []
  },
  {
   "cell_type": "markdown",
   "metadata": {},
   "source": [
    "### third option"
   ]
  },
  {
   "cell_type": "markdown",
   "metadata": {},
   "source": [
    "### second option "
   ]
  },
  {
   "cell_type": "code",
   "execution_count": 123,
   "metadata": {},
   "outputs": [
    {
     "ename": "NameError",
     "evalue": "name 'temp2' is not defined",
     "output_type": "error",
     "traceback": [
      "\u001b[0;31m---------------------------------------------------------------------------\u001b[0m",
      "\u001b[0;31mNameError\u001b[0m                                 Traceback (most recent call last)",
      "\u001b[0;32m<ipython-input-123-796ca39c3fc6>\u001b[0m in \u001b[0;36m<module>\u001b[0;34m\u001b[0m\n\u001b[1;32m     10\u001b[0m \u001b[0;31m#newmatrix=log(-1*(np.flip(np.average(temp2[:,:,1:4],axis=2),0)-38.271))\u001b[0m\u001b[0;34m\u001b[0m\u001b[0;34m\u001b[0m\u001b[0;34m\u001b[0m\u001b[0m\n\u001b[1;32m     11\u001b[0m \u001b[0;31m#newmatrix[newmatrix<-5]=-5\u001b[0m\u001b[0;34m\u001b[0m\u001b[0;34m\u001b[0m\u001b[0;34m\u001b[0m\u001b[0m\n\u001b[0;32m---> 12\u001b[0;31m \u001b[0mm\u001b[0m \u001b[0;34m=\u001b[0m \u001b[0max1\u001b[0m\u001b[0;34m.\u001b[0m\u001b[0mimshow\u001b[0m\u001b[0;34m(\u001b[0m\u001b[0mnp\u001b[0m\u001b[0;34m.\u001b[0m\u001b[0mflip\u001b[0m\u001b[0;34m(\u001b[0m\u001b[0mnp\u001b[0m\u001b[0;34m.\u001b[0m\u001b[0maverage\u001b[0m\u001b[0;34m(\u001b[0m\u001b[0mtemp2\u001b[0m\u001b[0;34m[\u001b[0m\u001b[0;34m:\u001b[0m\u001b[0;34m,\u001b[0m\u001b[0;34m:\u001b[0m\u001b[0;34m,\u001b[0m\u001b[0;36m1\u001b[0m\u001b[0;34m:\u001b[0m\u001b[0;36m4\u001b[0m\u001b[0;34m]\u001b[0m\u001b[0;34m,\u001b[0m\u001b[0maxis\u001b[0m\u001b[0;34m=\u001b[0m\u001b[0;36m2\u001b[0m\u001b[0;34m)\u001b[0m\u001b[0;34m,\u001b[0m\u001b[0;36m0\u001b[0m\u001b[0;34m)\u001b[0m\u001b[0;34m,\u001b[0m\u001b[0mcmap\u001b[0m \u001b[0;34m=\u001b[0m \u001b[0;34m'jet'\u001b[0m\u001b[0;34m,\u001b[0m\u001b[0minterpolation\u001b[0m\u001b[0;34m=\u001b[0m\u001b[0;34m\"lanczos\"\u001b[0m\u001b[0;34m,\u001b[0m\u001b[0mvmin\u001b[0m\u001b[0;34m=\u001b[0m\u001b[0;36m38\u001b[0m\u001b[0;34m,\u001b[0m\u001b[0mvmax\u001b[0m\u001b[0;34m=\u001b[0m\u001b[0;36m38.27\u001b[0m\u001b[0;34m)\u001b[0m\u001b[0;34m\u001b[0m\u001b[0;34m\u001b[0m\u001b[0m\n\u001b[0m\u001b[1;32m     13\u001b[0m \u001b[0;31m#m = ax1.imshow(np.flip(np.average(temp1[:,:,1:6],axis=2),0),cmap = 'jet',vmin=37, vmax=38.28)\u001b[0m\u001b[0;34m\u001b[0m\u001b[0;34m\u001b[0m\u001b[0;34m\u001b[0m\u001b[0m\n\u001b[1;32m     14\u001b[0m \u001b[0my_label_list\u001b[0m\u001b[0;34m=\u001b[0m\u001b[0;34m[\u001b[0m\u001b[0mseq\u001b[0m\u001b[0;34m[\u001b[0m\u001b[0;36m0\u001b[0m\u001b[0;34m]\u001b[0m\u001b[0;34m,\u001b[0m\u001b[0mseq\u001b[0m\u001b[0;34m[\u001b[0m\u001b[0;36m10\u001b[0m\u001b[0;34m]\u001b[0m\u001b[0;34m,\u001b[0m\u001b[0mseq\u001b[0m\u001b[0;34m[\u001b[0m\u001b[0;36m20\u001b[0m\u001b[0;34m]\u001b[0m\u001b[0;34m,\u001b[0m\u001b[0mseq\u001b[0m\u001b[0;34m[\u001b[0m\u001b[0;36m30\u001b[0m\u001b[0;34m]\u001b[0m\u001b[0;34m,\u001b[0m\u001b[0mseq\u001b[0m\u001b[0;34m[\u001b[0m\u001b[0;36m40\u001b[0m\u001b[0;34m]\u001b[0m\u001b[0;34m,\u001b[0m\u001b[0mseq\u001b[0m\u001b[0;34m[\u001b[0m\u001b[0;36m49\u001b[0m\u001b[0;34m]\u001b[0m\u001b[0;34m]\u001b[0m \u001b[0;31m# choose sampled points to show in the axis\u001b[0m\u001b[0;34m\u001b[0m\u001b[0;34m\u001b[0m\u001b[0m\n",
      "\u001b[0;31mNameError\u001b[0m: name 'temp2' is not defined"
     ]
    },
    {
     "data": {
      "image/png": "[encoded data removed]",
      "text/plain": [
       "<Figure size 576x1728 with 1 Axes>"
      ]
     },
     "metadata": {
      "needs_background": "light"
     },
     "output_type": "display_data"
    }
   ],
   "source": [
    "fig = plt.figure(figsize=(8,24))\n",
    "gs = gridspec.GridSpec(nrows=6,ncols=2,figure=fig, width_ratios= [1,1],height_ratios=[1,1,1,1,1,1], wspace=0.6,hspace=0.7)\n",
    "#########################\n",
    "ax1 = fig.add_subplot(gs[0:2, 0:2]) #a\n",
    "#sns.reset_orig()\n",
    "#sns.set()\n",
    "#m = ax1.imshow(np.flip(np.average(temp1[:,:,1:5],axis=2),0),cmap = 'jet',vmin=26, vmax=38.28,interpolation='bicubic')\n",
    "#newmatrix=log(-1*(np.flip(np.average(temp2[:,:,1:2],axis=2),0)-np.max(np.average(temp1[:,:,1:6],axis=2))))\n",
    "\n",
    "#newmatrix=log(-1*(np.flip(np.average(temp2[:,:,1:4],axis=2),0)-38.271))\n",
    "#newmatrix[newmatrix<-5]=-5\n",
    "m = ax1.imshow(np.flip(np.average(temp2[:,:,1:4],axis=2),0),cmap = 'jet',interpolation=\"lanczos\",vmin=38,vmax=38.27)\n",
    "#m = ax1.imshow(np.flip(np.average(temp1[:,:,1:6],axis=2),0),cmap = 'jet',vmin=37, vmax=38.28)\n",
    "y_label_list=[seq[0],seq[10],seq[20],seq[30],seq[40],seq[49]] # choose sampled points to show in the axis\n",
    "ax1.set_yticks([49,40,30,20,10,0]) # location in the axis to show the above ponits\n",
    "ax1.set_yticklabels(y_label_list,fontsize=15)\n",
    "x_label_list=[seq[0],seq[10],seq[20],seq[30],seq[40],seq[49]]\n",
    "ax1.set_xticks([0,10,20,30,40,49])\n",
    "ax1.set_xticklabels(x_label_list,fontsize=15)\n",
    "plt.ylabel('$\\mathregular{k_1}$ (s${^{-1}}$)',fontsize=30)\n",
    "plt.xlabel('$\\mathregular{k_3}$ (s${^{-1}}$)',fontsize=30)\n",
    "divider = make_axes_locatable(ax1)\n",
    "cax = divider.append_axes(\"right\", size=\"5%\", pad=0.05)\n",
    "plt.colorbar(m, cax=cax)\n",
    "plt.yticks(fontsize=15)\n",
    "plt.ylabel('<$\\phi$>',fontsize=30)\n",
    "#plt.ylabel('<$\\phi$>',rotation='horizontal')\n",
    "#figtext(0.450,0.860,\"b\",{'ha':'left','va':'top','fontsize':20, 'fontweight':'bold'},color='w')\n",
    "#figtext(0.450,0.785,\"c\", {'ha':'left','va':'top','fontsize':20, 'fontweight':'bold'},color='w')\n",
    "#figtext(0.450,0.740,\"d\", {'ha':'left','va':'top','fontsize':20, 'fontweight':'bold'},color='w')\n",
    "#figtext(0.450,0.700,\"e\", {'ha':'left','va':'top','fontsize':20, 'fontweight':'bold'},color='w')\n",
    "#tight_layout()\n",
    "####################################\n",
    "#sns.set()\n",
    "ax2 = fig.add_subplot(gs[2:3, 0:2]) #b\n",
    "NumberNucSites = np.linspace(0,201,201)\n",
    "avephi=np.average(flip(PhaseMatrixBOB),axis=2)\n",
    "myphierror=np.std(flip(PhaseMatrixBOB),axis=2)\n",
    "plot(NumberNucSites,avephi,'or',linewidth=5,label=\"30x30\")\n",
    "legend(loc=\"upper right\")\n",
    "plot(NumberNucSites,avephi,color='black',linewidth=1)\n",
    "errorbar(NumberNucSites,avephi,myphierror,uplims=False,lolims=False,color='blue')\n",
    "ylim([9,12])\n",
    "#xlim([0,50])\n",
    "plt.grid(True)\n",
    "ylabel('<$\\phi$>',fontsize=30);\n",
    "xlabel(\"# Nucleation Sites\",fontsize=25)\n",
    "#tight_layout()\n",
    "plt.savefig('phase_separation_100x100_with_nuc_examples_fig5_v3.pdf',bbox_inches='tight')"
   ]
  },
  {
   "cell_type": "markdown",
   "metadata": {},
   "source": [
    "# 100x100"
   ]
  },
  {
   "cell_type": "code",
   "execution_count": 6,
   "metadata": {},
   "outputs": [],
   "source": [
    "dir=\"/media/Data/MARCC/Cluster_Interaction/output_nuc2_long/\""
   ]
  },
  {
   "cell_type": "code",
   "execution_count": 24,
   "metadata": {},
   "outputs": [
    {
     "name": "stdout",
     "output_type": "stream",
     "text": [
      "times 951\n",
      "replicate 2\n",
      "ready\n"
     ]
    }
   ],
   "source": [
    "# File names #\n",
    "filename1 = dir+\"k1_5.995e-10_and_k3_3.594e-09_100x100_nuc2_prod.lm\" # the best!!\n",
    "# Reading files #\n",
    "fp1 = h5py.File(filename1, \"r\")\n",
    "# replicates #\n",
    "replicate=len(fp1[\"/Simulations\"].keys()) #Number of replicates\n",
    "times = len(np.array(fp1[\"/Simulations/%07d/SpeciesCountTimes\"%replicate], dtype=double))\n",
    "print(\"times\",times)\n",
    "print(\"replicate\",replicate)\n",
    "print(\"ready\")"
   ]
  },
  {
   "cell_type": "code",
   "execution_count": 25,
   "metadata": {},
   "outputs": [],
   "source": [
    "radius=5"
   ]
  },
  {
   "cell_type": "code",
   "execution_count": 26,
   "metadata": {},
   "outputs": [
    {
     "name": "stdout",
     "output_type": "stream",
     "text": [
      "ready\n"
     ]
    }
   ],
   "source": [
    "#Average Production#\n",
    "CountProd=np.zeros((times,replicate,3), dtype=int) \n",
    "lattices=fp1[\"/Simulations/%07d/Lattice\"%replicate].keys()\n",
    "#CountStep=-1\n",
    "for replicate in range(1,replicate+1): \n",
    "    CountStep=-1\n",
    "    for lattice in lattices:\n",
    "        CountStep=CountStep+1\n",
    "        #print(lattice)\n",
    "        lfull = np.array(fp1[\"/Simulations/%07d/Lattice/%s\"%(replicate,lattice)], dtype=np.uint8)\n",
    "        CountProd[CountStep][replicate-1][0]=float(np.sum(lfull[24-radius:27+radius][:,49-radius:52+radius]==1))\n",
    "        CountProd[CountStep][replicate-1][1]=float(np.sum(lfull[64-radius:67+radius][:,24-radius:27+radius]==1))\n",
    "        CountProd[CountStep][replicate-1][2]=float(np.sum(lfull[13:24][:,16:27]==1))\n",
    "AverageCountProd1=np.mean(CountProd,axis=1)\n",
    "#VarianceCountProd1=np.std(CountProd,axis=1)/sqrt(200)\n",
    "print(\"ready\")"
   ]
  },
  {
   "cell_type": "code",
   "execution_count": 27,
   "metadata": {},
   "outputs": [
    {
     "data": {
      "image/png": "[encoded data removed]",
      "text/plain": [
       "<Figure size 432x288 with 1 Axes>"
      ]
     },
     "metadata": {
      "needs_background": "light"
     },
     "output_type": "display_data"
    }
   ],
   "source": [
    "plot(AverageCountProd1[:,0],label=\"1st Nucleation\")\n",
    "plot(AverageCountProd1[:,1],label=\"2nd Nucleation\")\n",
    "ylabel('Number of $\\mathregular{x_{2}}$',fontsize=30);xlabel(\"Time(s)\",fontsize=30);\n",
    "legend(loc=\"upper right\", ncol=1, fontsize=10)\n",
    "xticks(fontsize=20);yticks(fontsize=20)\n",
    "plt.savefig('k1_5.995e-10_and_k3_3.594e-09_100x100_100x100.pdf',bbox_inches='tight')"
   ]
  },
  {
   "cell_type": "markdown",
   "metadata": {},
   "source": [
    "# 100x100 - 3 nucleation"
   ]
  },
  {
   "cell_type": "code",
   "execution_count": 79,
   "metadata": {},
   "outputs": [],
   "source": [
    "dir1='/media/Data/MARCC/Cluster_Interaction/phase_space/100x100/20rep/nuc1/'\n",
    "dir2='/media/Data/MARCC/Cluster_Interaction/phase_space/100x100/20rep/nuc2/'\n",
    "dir3='/media/Data/MARCC/Cluster_Interaction/phase_space/100x100/20rep/nuc3/'"
   ]
  },
  {
   "cell_type": "code",
   "execution_count": 80,
   "metadata": {},
   "outputs": [
    {
     "name": "stdout",
     "output_type": "stream",
     "text": [
      "times 1001\n",
      "replicate 20\n",
      "ready\n"
     ]
    }
   ],
   "source": [
    "# File names #\n",
    "filename1 =dir1+\"k1_5.995e-10_and_k3_3.594e-09_100x100_nuc1_prod.lm\"\n",
    "filename2 =dir2+\"k1_5.995e-10_and_k3_3.594e-09_100x100_nuc2_prod.lm\"\n",
    "filename3 =dir3+\"k1_5.995e-10_and_k3_3.594e-09_100x100_nuc3_prod.lm\"\n",
    "# Reading files #\n",
    "fp1 = h5py.File(filename1, \"r\")\n",
    "fp2 = h5py.File(filename2, \"r\")\n",
    "fp3 = h5py.File(filename3, \"r\")\n",
    "# replicates #\n",
    "replicate=len(fp1[\"/Simulations\"].keys()) #Number of replicates\n",
    "times = len(np.array(fp2[\"/Simulations/%07d/SpeciesCountTimes\"%replicate], dtype=double))\n",
    "print(\"times\",times)\n",
    "print(\"replicate\",replicate)\n",
    "print(\"ready\")"
   ]
  },
  {
   "cell_type": "code",
   "execution_count": 213,
   "metadata": {},
   "outputs": [],
   "source": [
    "radius=2"
   ]
  },
  {
   "cell_type": "code",
   "execution_count": 214,
   "metadata": {},
   "outputs": [
    {
     "name": "stdout",
     "output_type": "stream",
     "text": [
      "ready\n"
     ]
    }
   ],
   "source": [
    "#First Nucleation#\n",
    "CountProd1=np.zeros((times,replicate,3), dtype=int) \n",
    "lattices=fp1[\"/Simulations/%07d/Lattice\"%replicate].keys()\n",
    "#CountStep=-1\n",
    "for replicate in range(1,replicate+1): \n",
    "    CountStep=-1\n",
    "    for lattice in lattices:\n",
    "        CountStep=CountStep+1\n",
    "        #print(lattice)\n",
    "        lfull = np.array(fp1[\"/Simulations/%07d/Lattice/%s\"%(replicate,lattice)], dtype=np.uint8)\n",
    "        CountProd1[CountStep][replicate-1][0]=float(np.sum(lfull[24-radius:27+radius][:,49-radius:52+radius]==1))\n",
    "        CountProd1[CountStep][replicate-1][1]=float(np.sum(lfull[64-radius:67+radius][:,24-radius:27+radius]==1))\n",
    "        CountProd1[CountStep][replicate-1][2]=float(np.sum(lfull[64-radius:67+radius][:,64-radius:67+radius]==1))\n",
    "AverageCountProd1=np.mean(CountProd1,axis=1)\n",
    "#VarianceCountProd1=np.std(CountProd,axis=1)/sqrt(200)\n",
    "print(\"ready\")"
   ]
  },
  {
   "cell_type": "code",
   "execution_count": 215,
   "metadata": {},
   "outputs": [
    {
     "name": "stdout",
     "output_type": "stream",
     "text": [
      "ready\n"
     ]
    }
   ],
   "source": [
    "#Second Nucleation#\n",
    "CountProd2=np.zeros((times,replicate,3), dtype=int) \n",
    "lattices=fp2[\"/Simulations/%07d/Lattice\"%replicate].keys()\n",
    "#CountStep=-1\n",
    "for replicate in range(1,replicate+1): \n",
    "    CountStep=-1\n",
    "    for lattice in lattices:\n",
    "        CountStep=CountStep+1\n",
    "        #print(lattice)\n",
    "        lfull = np.array(fp2[\"/Simulations/%07d/Lattice/%s\"%(replicate,lattice)], dtype=np.uint8)\n",
    "        CountProd2[CountStep][replicate-1][0]=float(np.sum(lfull[24-radius:27+radius][:,49-radius:52+radius]==1))\n",
    "        CountProd2[CountStep][replicate-1][1]=float(np.sum(lfull[64-radius:67+radius][:,24-radius:27+radius]==1))\n",
    "        CountProd2[CountStep][replicate-1][2]=float(np.sum(lfull[64-radius:67+radius][:,64-radius:67+radius]==1))\n",
    "AverageCountProd2=np.mean(CountProd2,axis=1)\n",
    "#VarianceCountProd2=np.std(CountProd,axis=1)/sqrt(200)\n",
    "print(\"ready\")"
   ]
  },
  {
   "cell_type": "code",
   "execution_count": 216,
   "metadata": {},
   "outputs": [
    {
     "name": "stdout",
     "output_type": "stream",
     "text": [
      "ready\n"
     ]
    }
   ],
   "source": [
    "#Third Nucleation#\n",
    "CountProd3=np.zeros((times,replicate,3), dtype=int) \n",
    "lattices=fp3[\"/Simulations/%07d/Lattice\"%replicate].keys()\n",
    "#CountStep=-1\n",
    "for replicate in range(1,replicate+1): \n",
    "    CountStep=-1\n",
    "    for lattice in lattices:\n",
    "        CountStep=CountStep+1\n",
    "        #print(lattice)\n",
    "        lfull = np.array(fp3[\"/Simulations/%07d/Lattice/%s\"%(replicate,lattice)], dtype=np.uint8)\n",
    "        CountProd3[CountStep][replicate-1][0]=float(np.sum(lfull[24-radius:27+radius][:,49-radius:52+radius]==1))\n",
    "        CountProd3[CountStep][replicate-1][1]=float(np.sum(lfull[64-radius:67+radius][:,24-radius:27+radius]==1))\n",
    "        CountProd3[CountStep][replicate-1][2]=float(np.sum(lfull[64-radius:67+radius][:,64-radius:67+radius]==1))\n",
    "AverageCountProd3=np.mean(CountProd3,axis=1)\n",
    "#VarianceCountProd2=np.std(CountProd,axis=1)/sqrt(200)\n",
    "print(\"ready\")"
   ]
  },
  {
   "cell_type": "code",
   "execution_count": 217,
   "metadata": {},
   "outputs": [
    {
     "data": {
      "image/png": "[encoded data removed]",
      "text/plain": [
       "<Figure size 432x288 with 1 Axes>"
      ]
     },
     "metadata": {
      "needs_background": "light"
     },
     "output_type": "display_data"
    }
   ],
   "source": [
    "counting=np.concatenate((AverageCountProd1[0:1000],AverageCountProd2[0:1000],AverageCountProd3[0:1000]), axis=0)\n",
    "#myerror=np.concatenate((VarianceCountEqui[0:200], VarianceCountProd1[0:200],VarianceCountProd2[0:200]), axis=0)\n",
    "[nrow,ncol]=counting.shape\n",
    "Xaxis = np.arange(1, nrow, 1)\n",
    "for i in range(1,2):\n",
    "    step(Xaxis[0:2999],counting[:,0][0:2999],label=\"1st Nucleation\" , color='blue',**stepStyles)\n",
    "    step(Xaxis[1000:2999],counting[:,1][1000:2999],label=\"2nd Nucleation\" , color='red',**stepStyles)\n",
    "    step(Xaxis[1999:2999],counting[:,2][1999:2999],label=\"3rd Nucleation\" , color='green',**stepStyles)\n",
    "pass\n",
    "#xscale('log')\n",
    "ylabel('Number of $\\mathregular{x_{2}}$')\n",
    "legend(loc=\"upper right\", ncol=1, fontsize=10)\n",
    "xlabel(\"Time(s)\")\n",
    "tight_layout()"
   ]
  },
  {
   "cell_type": "code",
   "execution_count": 46,
   "metadata": {},
   "outputs": [
    {
     "ename": "TypeError",
     "evalue": "'int' object is not subscriptable",
     "output_type": "error",
     "traceback": [
      "\u001b[0;31m---------------------------------------------------------------------------\u001b[0m",
      "\u001b[0;31mTypeError\u001b[0m                                 Traceback (most recent call last)",
      "\u001b[0;32m<ipython-input-46-78e6c5ec88af>\u001b[0m in \u001b[0;36m<module>\u001b[0;34m\u001b[0m\n\u001b[0;32m----> 1\u001b[0;31m \u001b[0mcounting\u001b[0m\u001b[0;34m[\u001b[0m\u001b[0;36m500\u001b[0m\u001b[0;34m:\u001b[0m\u001b[0;36m1000\u001b[0m\u001b[0;34m,\u001b[0m\u001b[0;36m1\u001b[0m\u001b[0;34m]\u001b[0m\u001b[0;34m.\u001b[0m\u001b[0mshape\u001b[0m\u001b[0;34m\u001b[0m\u001b[0;34m\u001b[0m\u001b[0m\n\u001b[0m",
      "\u001b[0;31mTypeError\u001b[0m: 'int' object is not subscriptable"
     ]
    }
   ],
   "source": [
    "counting[500:1000,1].shape"
   ]
  },
  {
   "cell_type": "code",
   "execution_count": 51,
   "metadata": {},
   "outputs": [],
   "source": [
    "times=2000"
   ]
  },
  {
   "cell_type": "markdown",
   "metadata": {},
   "source": [
    "## 50 replicates - MARCC ##"
   ]
  },
  {
   "cell_type": "code",
   "execution_count": 130,
   "metadata": {},
   "outputs": [],
   "source": [
    "dir1=\"/media/Data/MARCC/Cluster_Interaction/phase_space/k1_1.000e-10_and_k3_3.594e-09/nuc1/\"\n",
    "dir2=\"/media/Data/MARCC/Cluster_Interaction/phase_space/k1_1.000e-10_and_k3_3.594e-09/nuc2/\"\n",
    "dir3=\"/media/Data/MARCC/Cluster_Interaction/phase_space/k1_1.000e-10_and_k3_3.594e-09/nuc3/\""
   ]
  },
  {
   "cell_type": "code",
   "execution_count": 131,
   "metadata": {},
   "outputs": [],
   "source": [
    "radius=10"
   ]
  },
  {
   "cell_type": "code",
   "execution_count": 132,
   "metadata": {
    "scrolled": true
   },
   "outputs": [
    {
     "name": "stdout",
     "output_type": "stream",
     "text": [
      "ready\n"
     ]
    }
   ],
   "source": [
    "replicate=1 # This simulations contains just one replicate\n",
    "N=np.linspace(1,492,492) # Number of simulations\n",
    "#N=np.linspace(1,10,10)\n",
    "CountProd1=np.zeros((times,len(N),3), dtype=int)  # Matrix to store the data\n",
    "# File names #\n",
    "for n in N:\n",
    "    CountStep=-1 # allocate each simulation output into a specific column in the matrix CountProd1\n",
    "    filename1 =dir1+\"%0.1d.lm\"%(n)\n",
    "    #print(filename1)\n",
    "    fp1 = h5py.File(filename1, \"r\")\n",
    "    times = len(np.array(fp1[\"/Simulations/%07d/SpeciesCountTimes\"%replicate], dtype=double))\n",
    "    lattices=fp1[\"/Simulations/%07d/Lattice\"%replicate].keys()\n",
    "    for lattice in lattices:\n",
    "        CountStep=CountStep+1\n",
    "        #lattice=list(fp1[\"/Simulations/%07d/Lattice\"%replicate].keys())[-1]\n",
    "        lfull = np.array(fp1[\"/Simulations/%07d/Lattice/%s\"%(replicate,lattice)], dtype=np.uint8)\n",
    "        CountProd1[CountStep][int(n-1)][0]=float(np.sum(lfull[24-radius:27+radius][:,49-radius:52+radius]==1))\n",
    "        CountProd1[CountStep][int(n-1)][1]=float(np.sum(lfull[64-radius:67+radius][:,24-radius:27+radius]==1))\n",
    "        CountProd1[CountStep][int(n-1)][2]=float(np.sum(lfull[64-radius:67+radius][:,64-radius:67+radius]==1))\n",
    "AverageCountProd1=np.mean(CountProd1,axis=1)\n",
    "print(\"ready\")"
   ]
  },
  {
   "cell_type": "code",
   "execution_count": 133,
   "metadata": {},
   "outputs": [
    {
     "name": "stdout",
     "output_type": "stream",
     "text": [
      "ready\n"
     ]
    }
   ],
   "source": [
    "dir2=\"/media/Data/MARCC/Cluster_Interaction/phase_space/k1_1.000e-10_and_k3_3.594e-09/nuc2/\"\n",
    "replicate=1 # This simulations contains just one replicate\n",
    "N=np.linspace(1,419,419) # Number of simulations\n",
    "#N=np.linspace(1,50,50)\n",
    "CountProd2=np.zeros((times,len(N),3), dtype=int)  # Matrix to store the data\n",
    "# File names #\n",
    "for n in N:\n",
    "    CountStep=-1 # allocate each simulation output into a specific column in the matrix CountProd1\n",
    "    filename1 =dir2+\"%0.1d.lm\"%(n)\n",
    "    #print(filename1)\n",
    "    fp1 = h5py.File(filename1, \"r\")\n",
    "    times = len(np.array(fp1[\"/Simulations/%07d/SpeciesCountTimes\"%replicate], dtype=double))\n",
    "    lattices=fp1[\"/Simulations/%07d/Lattice\"%replicate].keys()\n",
    "    for lattice in lattices:\n",
    "        CountStep=CountStep+1\n",
    "        #lattice=list(fp1[\"/Simulations/%07d/Lattice\"%replicate].keys())[-1]\n",
    "        lfull = np.array(fp1[\"/Simulations/%07d/Lattice/%s\"%(replicate,lattice)], dtype=np.uint8)\n",
    "        CountProd2[CountStep][int(n-1)][0]=float(np.sum(lfull[24-radius:27+radius][:,49-radius:52+radius]==1))\n",
    "        CountProd2[CountStep][int(n-1)][1]=float(np.sum(lfull[64-radius:67+radius][:,24-radius:27+radius]==1))\n",
    "        CountProd2[CountStep][int(n-1)][2]=float(np.sum(lfull[64-radius:67+radius][:,64-radius:67+radius]==1))\n",
    "AverageCountProd2=np.mean(CountProd2,axis=1)\n",
    "print(\"ready\")"
   ]
  },
  {
   "cell_type": "code",
   "execution_count": 134,
   "metadata": {},
   "outputs": [
    {
     "name": "stdout",
     "output_type": "stream",
     "text": [
      "ready\n"
     ]
    }
   ],
   "source": [
    "dir3=\"/media/Data/MARCC/Cluster_Interaction/phase_space/k1_1.000e-10_and_k3_3.594e-09/nuc3/\"\n",
    "replicate=1 # This simulations contains just one replicate\n",
    "N=np.linspace(1,351,351)\n",
    "#N=np.linspace(1,50,50)\n",
    "CountProd3=np.zeros((times,len(N),3), dtype=int)  # Matrix to store the data\n",
    "# File names #\n",
    "i=-1\n",
    "for n in N:\n",
    "    i=i+1\n",
    "    CountStep=-1 # allocate each simulation output into a specific column in the matrix CountProd1\n",
    "    #filename1 =dir3+\"%0.1d_nuc3.lm\"%(n)\n",
    "    filename1 =dir3+\"%0.1d.lm\"%(n)\n",
    "    #print(filename1)\n",
    "    fp1 = h5py.File(filename1, \"r\")\n",
    "    times = len(np.array(fp1[\"/Simulations/%07d/SpeciesCountTimes\"%replicate], dtype=double))\n",
    "    lattices=fp1[\"/Simulations/%07d/Lattice\"%replicate].keys()\n",
    "    for lattice in lattices:\n",
    "        CountStep=CountStep+1\n",
    "        #lattice=list(fp1[\"/Simulations/%07d/Lattice\"%replicate].keys())[-1]\n",
    "        lfull = np.array(fp1[\"/Simulations/%07d/Lattice/%s\"%(replicate,lattice)], dtype=np.uint8)\n",
    "        CountProd3[CountStep][int(i-1)][0]=float(np.sum(lfull[24-radius:27+radius][:,49-radius:52+radius]==1))\n",
    "        CountProd3[CountStep][int(i-1)][1]=float(np.sum(lfull[64-radius:67+radius][:,24-radius:27+radius]==1))\n",
    "        CountProd3[CountStep][int(i-1)][2]=float(np.sum(lfull[64-radius:67+radius][:,64-radius:67+radius]==1))\n",
    "AverageCountProd3=np.mean(CountProd3,axis=1)\n",
    "print(\"ready\")"
   ]
  },
  {
   "cell_type": "code",
   "execution_count": null,
   "metadata": {},
   "outputs": [],
   "source": []
  },
  {
   "cell_type": "code",
   "execution_count": 135,
   "metadata": {},
   "outputs": [
    {
     "data": {
      "image/png": "[encoded data removed]",
      "text/plain": [
       "<Figure size 432x288 with 1 Axes>"
      ]
     },
     "metadata": {
      "needs_background": "light"
     },
     "output_type": "display_data"
    }
   ],
   "source": [
    "counting=np.concatenate((AverageCountProd1[0:2000],AverageCountProd2[0:2000],AverageCountProd3[0:2000]), axis=0)\n",
    "#myerror=np.concatenate((VarianceCountEqui[0:200], VarianceCountProd1[0:200],VarianceCountProd2[0:200]), axis=0)\n",
    "[nrow,ncol]=counting.shape\n",
    "Xaxis = np.arange(1, nrow, 1)\n",
    "for i in range(1,2):\n",
    "    step(Xaxis[0:5999],counting[:,0][0:5999],label=\"1st Nucleation\" , color='blue',**stepStyles)\n",
    "    step(Xaxis[2000:5999],counting[:,1][2000:5999],label=\"2nd Nucleation\" , color='red',**stepStyles)\n",
    "    step(Xaxis[4000:5999],counting[:,2][4000:5999],label=\"3rd Nucleation\" , color='green',**stepStyles)\n",
    "pass\n",
    "#ylim([0,1000])\n",
    "ylabel('Number of $\\mathregular{x_{2}}$')\n",
    "legend(loc=\"upper right\", ncol=1, fontsize=10)\n",
    "xlabel(\"Time(s)\")\n",
    "plt.grid(True)\n",
    "tight_layout()"
   ]
  },
  {
   "cell_type": "code",
   "execution_count": 610,
   "metadata": {},
   "outputs": [
    {
     "data": {
      "text/plain": [
       "(3999,)"
      ]
     },
     "execution_count": 610,
     "metadata": {},
     "output_type": "execute_result"
    }
   ],
   "source": [
    "Xaxis.shape"
   ]
  },
  {
   "cell_type": "code",
   "execution_count": 96,
   "metadata": {},
   "outputs": [
    {
     "data": {
      "text/plain": [
       "array([100., 101., 102., 103., 104., 105., 106., 107., 108., 109., 110.,\n",
       "       111., 112., 113., 114., 115., 116., 117., 118., 119., 120., 121.,\n",
       "       122., 123., 124., 125., 126., 127., 128., 129., 130., 131., 132.,\n",
       "       133., 134., 135., 136., 137., 138., 139., 140., 141., 142., 143.,\n",
       "       144., 145., 146., 147., 148., 149., 150., 151., 152., 153., 154.,\n",
       "       155., 156., 157., 158., 159., 160., 161., 162., 163., 164., 165.,\n",
       "       166., 167., 168., 169., 170., 171., 172., 173., 174., 175., 176.,\n",
       "       177., 178., 179., 180., 181., 182., 183., 184., 185., 186., 187.,\n",
       "       188., 189., 190., 191., 192., 193., 194., 195., 196., 197., 198.,\n",
       "       199.])"
      ]
     },
     "execution_count": 96,
     "metadata": {},
     "output_type": "execute_result"
    }
   ],
   "source": [
    "N2=np.linspace(100,199,100)\n",
    "N2"
   ]
  },
  {
   "cell_type": "code",
   "execution_count": 138,
   "metadata": {},
   "outputs": [
    {
     "name": "stdout",
     "output_type": "stream",
     "text": [
      "ready\n"
     ]
    },
    {
     "data": {
      "image/png": "[encoded data removed]",
      "text/plain": [
       "<Figure size 1152x720 with 10 Axes>"
      ]
     },
     "metadata": {
      "needs_background": "light"
     },
     "output_type": "display_data"
    }
   ],
   "source": [
    "N1=[0]\n",
    "#N2=np.linspace(201,300,100)\n",
    "N2=[11,14,23,31,44,63,76,77,89,95]\n",
    "dir='/media/Data/MARCC/Cluster_Interaction/phase_space/k1_1.000e-10_and_k3_3.594e-09/nuc1/'\n",
    "counting=0\n",
    "for x1 in N1:\n",
    "    figure(figsize = (16,10));\n",
    "    countsim=0\n",
    "    for x2 in N2:\n",
    "        countsim=countsim+1\n",
    "        #name=\"30_nuc3.lm\"\n",
    "        name=\"%0.1d.lm\"%(x2)\n",
    "        filename1 =dir+name\n",
    "        #print(filename1)\n",
    "        fp1 = h5py.File(filename1, \"r\")\n",
    "        replicate=1\n",
    "        lattices=fp1[\"/Simulations/%07d/Lattice\"%replicate].keys()\n",
    "        startTimestep=0\n",
    "        #endTimestep=len(times1)\n",
    "        count=0\n",
    "        #print(lattices)\n",
    "        lattice=list(fp1[\"/Simulations/%07d/Lattice\"%replicate].keys())[1]\n",
    "        #figure(figsize = (12,6));\n",
    "        lfull = np.array(fp1[\"/Simulations/%07d/Lattice/%s\"%(replicate,lattice)], dtype=np.uint8)\n",
    "        SumParticlesX2=np.sum(lfull==1,axis=3) #Count Particles of Type X1\n",
    "        TrasnPotSumPartX2=SumParticlesX2.transpose(2,0,1) # \"Reshape matrix from 100x100x10 to 10x100x100\"\n",
    "        subplot(2,5, countsim);\n",
    "        #suptitle(\"k1_%0.3e_and_k1_%0.3e.\"%(x1,x2),fontsize=20)\n",
    "        imshow(TrasnPotSumPartX2[0],interpolation='nearest',vmin=0, vmax=3,cmap=cm.bone);\n",
    "        #title(\"replicate \"+str(replicate),fontsize=20);plt.xticks(fontsize=20);plt.yticks(fontsize=20) \n",
    "        #savefig(\"k1_%0.1e_and_k3_%0.1e.png\"%(x1,x2))\n",
    "print(\"ready\")"
   ]
  },
  {
   "cell_type": "markdown",
   "metadata": {},
   "source": [
    "dir='/media/Data/MARCC/Cluster_Interaction/phase_space/k1_1.000e-10_and_k3_3.594e-09/nuc2/'\n",
    "filename1 =dir+\"4.lm\"\n",
    "fp1 = h5py.File(filename1, \"r\")\n",
    "################\n",
    "replicate=1 #162#135#92#66 #65 56 36 #27\n",
    "################\n",
    "lattice=list(fp1[\"/Simulations/%07d/Lattice\"%replicate].keys())[1]"
   ]
  },
  {
   "cell_type": "code",
   "execution_count": null,
   "metadata": {},
   "outputs": [],
   "source": [
    "N1=[0]\n",
    "N2=[11,14,23,31,44,63,76,77,89,95]\n",
    "dir='/media/Data/MARCC/Cluster_Interaction/phase_space/k1_1.000e-10_and_k3_3.594e-09/nuc1/'\n",
    "counting=0\n",
    "for x1 in N1:\n",
    "    figure(figsize = (16,10));\n",
    "    countsim=0\n",
    "    name=\"%0.1d.lm\"%(1)\n",
    "    filename1 =dir+name\n",
    "    #print(filename1)\n",
    "    fp1 = h5py.File(filename1, \"r\")\n",
    "    lattices=fp1[\"/Simulations/%07d/Lattice\"%replicate].keys()\n",
    "    for lattice in lattices:\n",
    "        if int(lattice)%1==0:\n",
    "            countsim=0\n",
    "            for x2 in N2:\n",
    "                countsim=countsim+1\n",
    "                #name=\"30_nuc3.lm\"\n",
    "                name=\"%0.1d.lm\"%(x2)\n",
    "                filename1 =dir+name\n",
    "                #print(filename1)\n",
    "                fp1 = h5py.File(filename1, \"r\")\n",
    "                replicate=1\n",
    "                #lattices=fp1[\"/Simulations/%07d/Lattice\"%replicate].keys()\n",
    "                startTimestep=0\n",
    "                #endTimestep=len(times1)\n",
    "                count=0\n",
    "                #print(lattices)\n",
    "                #lattice=list(fp1[\"/Simulations/%07d/Lattice\"%replicate].keys()\n",
    "                #figure(figsize = (12,6));\n",
    "                lfull = np.array(fp1[\"/Simulations/%07d/Lattice/%s\"%(replicate,lattice)], dtype=np.uint8)\n",
    "                SumParticlesX2=np.sum(lfull==1,axis=3) #Count Particles of Type X1\n",
    "                TrasnPotSumPartX2=SumParticlesX2.transpose(2,0,1) # \"Reshape matrix from 100x100x10 to 10x100x100\"\n",
    "                subplot(2,5, countsim);\n",
    "                suptitle(\"Frame = %0.4s\"%(int(lattice)),fontsize=20)\n",
    "                imshow(TrasnPotSumPartX2[0],interpolation='nearest',vmin=0, vmax=5,cmap=cm.bone);\n",
    "                #figtext(0.055,0.550,\"a\", {'ha':'left','va':'top','fontsize':20, 'fontweight':'bold'})\n",
    "                #title(\"replicate \"+str(replicate),fontsize=20);plt.xticks(fontsize=20);plt.yticks(fontsize=20) \n",
    "            savefig(\"temp%0.4s.png\"%(int(lattice)))\n",
    "print(\"ready\")"
   ]
  },
  {
   "cell_type": "code",
   "execution_count": 69,
   "metadata": {},
   "outputs": [
    {
     "name": "stdout",
     "output_type": "stream",
     "text": [
      "/media/Data/MARCC/Cluster_Interaction/phase_space/k1_1.000e-10_and_k3_3.594e-09/nuc1/10.lm 0 0\n"
     ]
    },
    {
     "data": {
      "image/png": "[encoded data removed]",
      "text/plain": [
       "<Figure size 432x288 with 1 Axes>"
      ]
     },
     "metadata": {
      "needs_background": "light"
     },
     "output_type": "display_data"
    }
   ],
   "source": [
    "N1=[0]\n",
    "N2=[0]\n",
    "radius=10\n",
    "for x1 in N1:\n",
    "    for x2 in N2:\n",
    "        dir='/media/Data/MARCC/Cluster_Interaction/phase_space/k1_1.000e-10_and_k3_3.594e-09/nuc1/'\n",
    "        filename1 =dir+\"10.lm\"\n",
    "        print(filename1,x1,x2)\n",
    "        fp1 = h5py.File(filename1, \"r\")\n",
    "        replicate=1\n",
    "        counts=fp1[\"/Simulations/%07d/SpeciesCounts\"%replicate]\n",
    "        times1=fp1[\"/Simulations/%07d/SpeciesCountTimes\"%replicate]\n",
    "        #print(times1)\n",
    "        startTimestep=0\n",
    "        endTimestep=len(times1)\n",
    "        for replicate in range(1,2):\n",
    "            counts=fp1[\"/Simulations/%07d/SpeciesCounts\"%replicate]\n",
    "            times=fp1[\"/Simulations/%07d/SpeciesCountTimes\"%replicate]\n",
    "            step(times[startTimestep:endTimestep],counts[startTimestep:endTimestep,0],color='blue',linewidth=5)\n",
    "            step(times[startTimestep:endTimestep],counts[startTimestep:endTimestep,1],color='red',linewidth=5)\n",
    "            step(times[startTimestep:endTimestep],counts[startTimestep:endTimestep,2],color='green',linewidth=5)\n",
    "        pass\n",
    "xlabel('Time (s)',fontsize=30); ylabel('# Molecules',fontsize=30); \n",
    "plt.xticks(fontsize=30);plt.yticks(fontsize=30)\n",
    "fp1=0"
   ]
  },
  {
   "cell_type": "code",
   "execution_count": null,
   "metadata": {},
   "outputs": [],
   "source": []
  },
  {
   "cell_type": "code",
   "execution_count": 121,
   "metadata": {},
   "outputs": [
    {
     "name": "stdout",
     "output_type": "stream",
     "text": [
      "ready\n"
     ]
    }
   ],
   "source": [
    "radius=24\n",
    "dir1=\"/media/Data/MARCC/Cluster_Interaction/phase_space/k1_1.000e-10_and_k3_3.594e-09/nuc1/\"\n",
    "replicate=1 # This simulations contains just one replicate\n",
    "N=np.linspace(1,10,10)\n",
    "CountProd1=np.zeros((times,len(N),3), dtype=float)  # Matrix to store the data\n",
    "# File names #\n",
    "for n in N:\n",
    "    CountStep=-1 # allocate each simulation output into a specific column in the matrix CountProd1\n",
    "    filename1 =dir1+\"%0.1d.lm\"%(n)\n",
    "    fp1 = h5py.File(filename1, \"r\")\n",
    "    times = len(np.array(fp1[\"/Simulations/%07d/SpeciesCountTimes\"%replicate], dtype=double))\n",
    "    lattices=fp1[\"/Simulations/%07d/Lattice\"%replicate].keys()\n",
    "    for lattice in lattices:\n",
    "        CountStep=CountStep+1\n",
    "        lfull = np.array(fp1[\"/Simulations/%07d/Lattice/%s\"%(replicate,lattice)], dtype=np.uint8)\n",
    "        CountProd1[CountStep][int(n-1)][0]=float(np.sum(lfull[24-radius:27+radius][:,49-radius:52+radius]==1))\n",
    "        #CountProd1[CountStep][int(n-1)][0]=float(np.sum(lfull[24-radius:27+radius][:,49-radius:52+radius]==1))\n",
    "        #CountProd1[CountStep][int(n-1)][1]=float(np.sum(lfull[64-radius:67+radius][:,24-radius:27+radius]==1))\n",
    "        #CountProd1[CountStep][int(n-1)][2]=float(np.sum(lfull[64-radius:67+radius][:,64-radius:67+radius]==1))\n",
    "AverageCountProd1=np.mean(CountProd1,axis=1)\n",
    "print(\"ready\")"
   ]
  },
  {
   "cell_type": "code",
   "execution_count": 122,
   "metadata": {},
   "outputs": [
    {
     "data": {
      "text/plain": [
       "(0, 1500)"
      ]
     },
     "execution_count": 122,
     "metadata": {},
     "output_type": "execute_result"
    },
    {
     "data": {
      "image/png": "[encoded data removed]",
      "text/plain": [
       "<Figure size 432x288 with 1 Axes>"
      ]
     },
     "metadata": {
      "needs_background": "light"
     },
     "output_type": "display_data"
    }
   ],
   "source": [
    "plot(np.mean(CountProd1,axis=1))\n",
    "ylim([0,1500])"
   ]
  },
  {
   "cell_type": "code",
   "execution_count": 142,
   "metadata": {},
   "outputs": [],
   "source": [
    "dir1=\"/media/Data/MARCC/Cluster_Interaction/phase_space/nuc1_krastan/\"\n",
    "radius=10"
   ]
  },
  {
   "cell_type": "code",
   "execution_count": 165,
   "metadata": {},
   "outputs": [
    {
     "name": "stdout",
     "output_type": "stream",
     "text": [
      "ready\n"
     ]
    }
   ],
   "source": [
    "replicate=1 # This simulations contains just one replicate\n",
    "N=np.linspace(1,40,40)# Number of simulations\n",
    "#N=np.linspace(1,10,10)\n",
    "CountProd1=np.zeros((times,len(N),3), dtype=int)  # Matrix to store the data\n",
    "# File names #\n",
    "for n in N:\n",
    "    CountStep=-1 # allocate each simulation output into a specific column in the matrix CountProd1\n",
    "    filename1 =dir1+\"%0.1d.lm\"%(n)\n",
    "    #print(filename1)\n",
    "    fp1 = h5py.File(filename1, \"r\")\n",
    "    times = len(np.array(fp1[\"/Simulations/%07d/SpeciesCountTimes\"%replicate], dtype=double))\n",
    "    lattices=fp1[\"/Simulations/%07d/Lattice\"%replicate].keys()\n",
    "    for lattice in lattices:\n",
    "        CountStep=CountStep+1\n",
    "        #lattice=list(fp1[\"/Simulations/%07d/Lattice\"%replicate].keys())[-1]\n",
    "        lfull = np.array(fp1[\"/Simulations/%07d/Lattice/%s\"%(replicate,lattice)], dtype=np.uint8)\n",
    "        CountProd1[CountStep][int(n-1)][0]=float(np.sum(lfull[24-radius:27+radius][:,49-radius:52+radius]==1))\n",
    "        CountProd1[CountStep][int(n-1)][1]=float(np.sum(lfull[64-radius:67+radius][:,24-radius:27+radius]==1))\n",
    "        CountProd1[CountStep][int(n-1)][2]=float(np.sum(lfull[64-radius:67+radius][:,64-radius:67+radius]==1))\n",
    "AverageCountProd1=np.mean(CountProd1,axis=1)\n",
    "print(\"ready\")"
   ]
  },
  {
   "cell_type": "code",
   "execution_count": 171,
   "metadata": {},
   "outputs": [
    {
     "data": {
      "text/plain": [
       "(0, 80)"
      ]
     },
     "execution_count": 171,
     "metadata": {},
     "output_type": "execute_result"
    },
    {
     "data": {
      "image/png": "[encoded data removed]",
      "text/plain": [
       "<Figure size 432x288 with 1 Axes>"
      ]
     },
     "metadata": {
      "needs_background": "light"
     },
     "output_type": "display_data"
    }
   ],
   "source": [
    "plot(np.mean(CountProd1,axis=1)[:,0])\n",
    "xlim([0,80])"
   ]
  },
  {
   "cell_type": "code",
   "execution_count": 156,
   "metadata": {},
   "outputs": [
    {
     "data": {
      "text/plain": [
       "array([  0.   ,  60.3  , 100.825, ..., 522.65 , 517.275, 525.925])"
      ]
     },
     "execution_count": 156,
     "metadata": {},
     "output_type": "execute_result"
    }
   ],
   "source": [
    "np.mean(CountProd1,axis=1)[:,0]"
   ]
  },
  {
   "cell_type": "code",
   "execution_count": null,
   "metadata": {},
   "outputs": [],
   "source": []
  }
 ],
 "metadata": {
  "kernelspec": {
   "display_name": "Python 2",
   "language": "python",
   "name": "python2"
  },
  "language_info": {
   "codemirror_mode": {
    "name": "ipython",
    "version": 3
   },
   "file_extension": ".py",
   "mimetype": "text/x-python",
   "name": "python",
   "nbconvert_exporter": "python",
   "pygments_lexer": "ipython3",
   "version": "3.7.3"
  }
 },
 "nbformat": 4,
 "nbformat_minor": 2
}
